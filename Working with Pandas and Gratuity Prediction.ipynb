{
 "cells": [
  {
   "cell_type": "markdown",
   "id": "f4fde515",
   "metadata": {},
   "source": [
    "# Working with Pandas"
   ]
  },
  {
   "cell_type": "code",
   "execution_count": 12,
   "id": "55cb0aed",
   "metadata": {},
   "outputs": [],
   "source": [
    "import pandas as pd"
   ]
  },
  {
   "cell_type": "code",
   "execution_count": 13,
   "id": "64824147",
   "metadata": {},
   "outputs": [
    {
     "data": {
      "text/html": [
       "<div>\n",
       "<style scoped>\n",
       "    .dataframe tbody tr th:only-of-type {\n",
       "        vertical-align: middle;\n",
       "    }\n",
       "\n",
       "    .dataframe tbody tr th {\n",
       "        vertical-align: top;\n",
       "    }\n",
       "\n",
       "    .dataframe thead th {\n",
       "        text-align: right;\n",
       "    }\n",
       "</style>\n",
       "<table border=\"1\" class=\"dataframe\">\n",
       "  <thead>\n",
       "    <tr style=\"text-align: right;\">\n",
       "      <th></th>\n",
       "      <th>Name</th>\n",
       "      <th>Age</th>\n",
       "    </tr>\n",
       "  </thead>\n",
       "  <tbody>\n",
       "    <tr>\n",
       "      <th>0</th>\n",
       "      <td>Adebayo</td>\n",
       "      <td>20</td>\n",
       "    </tr>\n",
       "    <tr>\n",
       "      <th>1</th>\n",
       "      <td>Esther</td>\n",
       "      <td>15</td>\n",
       "    </tr>\n",
       "    <tr>\n",
       "      <th>2</th>\n",
       "      <td>Ezekiel</td>\n",
       "      <td>12</td>\n",
       "    </tr>\n",
       "    <tr>\n",
       "      <th>3</th>\n",
       "      <td>Boluwatife</td>\n",
       "      <td>10</td>\n",
       "    </tr>\n",
       "    <tr>\n",
       "      <th>4</th>\n",
       "      <td>Chiwendu</td>\n",
       "      <td>15</td>\n",
       "    </tr>\n",
       "  </tbody>\n",
       "</table>\n",
       "</div>"
      ],
      "text/plain": [
       "         Name  Age\n",
       "0     Adebayo   20\n",
       "1      Esther   15\n",
       "2     Ezekiel   12\n",
       "3  Boluwatife   10\n",
       "4    Chiwendu   15"
      ]
     },
     "execution_count": 13,
     "metadata": {},
     "output_type": "execute_result"
    }
   ],
   "source": [
    "#list\n",
    "\n",
    "data = [['Adebayo', 20], ['Esther', 15], ['Ezekiel', 12], ['Boluwatife', 10], ['Chiwendu', 15]]\n",
    "\n",
    "#Turn the above data to dataframe and name the columns\n",
    "df = pd.DataFrame(data, columns = ['Name', 'Age'])\n",
    "df"
   ]
  },
  {
   "cell_type": "markdown",
   "id": "f6179a89",
   "metadata": {},
   "source": [
    "Using Dictionaries of narray list"
   ]
  },
  {
   "cell_type": "code",
   "execution_count": 14,
   "id": "7b4010d4",
   "metadata": {},
   "outputs": [
    {
     "data": {
      "text/html": [
       "<div>\n",
       "<style scoped>\n",
       "    .dataframe tbody tr th:only-of-type {\n",
       "        vertical-align: middle;\n",
       "    }\n",
       "\n",
       "    .dataframe tbody tr th {\n",
       "        vertical-align: top;\n",
       "    }\n",
       "\n",
       "    .dataframe thead th {\n",
       "        text-align: right;\n",
       "    }\n",
       "</style>\n",
       "<table border=\"1\" class=\"dataframe\">\n",
       "  <thead>\n",
       "    <tr style=\"text-align: right;\">\n",
       "      <th></th>\n",
       "      <th>Name</th>\n",
       "      <th>Age</th>\n",
       "    </tr>\n",
       "  </thead>\n",
       "  <tbody>\n",
       "    <tr>\n",
       "      <th>0</th>\n",
       "      <td>Adebayo</td>\n",
       "      <td>12</td>\n",
       "    </tr>\n",
       "    <tr>\n",
       "      <th>1</th>\n",
       "      <td>Ezekiel</td>\n",
       "      <td>13</td>\n",
       "    </tr>\n",
       "    <tr>\n",
       "      <th>2</th>\n",
       "      <td>Esther</td>\n",
       "      <td>14</td>\n",
       "    </tr>\n",
       "    <tr>\n",
       "      <th>3</th>\n",
       "      <td>Boluwatife</td>\n",
       "      <td>15</td>\n",
       "    </tr>\n",
       "    <tr>\n",
       "      <th>4</th>\n",
       "      <td>Chiwendu</td>\n",
       "      <td>16</td>\n",
       "    </tr>\n",
       "  </tbody>\n",
       "</table>\n",
       "</div>"
      ],
      "text/plain": [
       "         Name  Age\n",
       "0     Adebayo   12\n",
       "1     Ezekiel   13\n",
       "2      Esther   14\n",
       "3  Boluwatife   15\n",
       "4    Chiwendu   16"
      ]
     },
     "execution_count": 14,
     "metadata": {},
     "output_type": "execute_result"
    }
   ],
   "source": [
    "D = {'Name': ['Adebayo', 'Ezekiel', 'Esther', 'Boluwatife', 'Chiwendu'], 'Age': [12, 13, 14, 15, 16]}\n",
    "DF = pd.DataFrame(D)\n",
    "DF"
   ]
  },
  {
   "cell_type": "code",
   "execution_count": 15,
   "id": "8c01da34",
   "metadata": {},
   "outputs": [
    {
     "data": {
      "text/html": [
       "<div>\n",
       "<style scoped>\n",
       "    .dataframe tbody tr th:only-of-type {\n",
       "        vertical-align: middle;\n",
       "    }\n",
       "\n",
       "    .dataframe tbody tr th {\n",
       "        vertical-align: top;\n",
       "    }\n",
       "\n",
       "    .dataframe thead th {\n",
       "        text-align: right;\n",
       "    }\n",
       "</style>\n",
       "<table border=\"1\" class=\"dataframe\">\n",
       "  <thead>\n",
       "    <tr style=\"text-align: right;\">\n",
       "      <th></th>\n",
       "      <th>State</th>\n",
       "      <th>Capital</th>\n",
       "      <th>Area</th>\n",
       "      <th>Population</th>\n",
       "    </tr>\n",
       "  </thead>\n",
       "  <tbody>\n",
       "    <tr>\n",
       "      <th>0</th>\n",
       "      <td>Abia</td>\n",
       "      <td>Umuahia</td>\n",
       "      <td>1234</td>\n",
       "      <td>1234567</td>\n",
       "    </tr>\n",
       "    <tr>\n",
       "      <th>1</th>\n",
       "      <td>Adamawa</td>\n",
       "      <td>Yola</td>\n",
       "      <td>2345</td>\n",
       "      <td>2201230</td>\n",
       "    </tr>\n",
       "    <tr>\n",
       "      <th>2</th>\n",
       "      <td>Imo</td>\n",
       "      <td>Owerri</td>\n",
       "      <td>3421</td>\n",
       "      <td>34521092</td>\n",
       "    </tr>\n",
       "    <tr>\n",
       "      <th>3</th>\n",
       "      <td>Kwara</td>\n",
       "      <td>Ilorin</td>\n",
       "      <td>2134</td>\n",
       "      <td>12310022</td>\n",
       "    </tr>\n",
       "  </tbody>\n",
       "</table>\n",
       "</div>"
      ],
      "text/plain": [
       "     State  Capital  Area  Population\n",
       "0     Abia  Umuahia  1234     1234567\n",
       "1  Adamawa     Yola  2345     2201230\n",
       "2      Imo   Owerri  3421    34521092\n",
       "3    Kwara   Ilorin  2134    12310022"
      ]
     },
     "execution_count": 15,
     "metadata": {},
     "output_type": "execute_result"
    }
   ],
   "source": [
    "#Creating state, capital, area and polpulation\n",
    "\n",
    "pop = {'State': ['Abia', 'Adamawa', 'Imo', 'Kwara'], 'Capital': ['Umuahia', 'Yola', 'Owerri', 'Ilorin'], 'Area': [1234, 2345, 3421, 2134], 'Population': [1234567, 2201230, 34521092, 12310022]}\n",
    "\n",
    "Data = pd.DataFrame(pop)\n",
    "Data"
   ]
  },
  {
   "cell_type": "markdown",
   "id": "5a74c7cd",
   "metadata": {},
   "source": [
    "IMPORTING DATA"
   ]
  },
  {
   "cell_type": "code",
   "execution_count": 16,
   "id": "c2619d77",
   "metadata": {},
   "outputs": [
    {
     "data": {
      "text/html": [
       "<div>\n",
       "<style scoped>\n",
       "    .dataframe tbody tr th:only-of-type {\n",
       "        vertical-align: middle;\n",
       "    }\n",
       "\n",
       "    .dataframe tbody tr th {\n",
       "        vertical-align: top;\n",
       "    }\n",
       "\n",
       "    .dataframe thead th {\n",
       "        text-align: right;\n",
       "    }\n",
       "</style>\n",
       "<table border=\"1\" class=\"dataframe\">\n",
       "  <thead>\n",
       "    <tr style=\"text-align: right;\">\n",
       "      <th></th>\n",
       "      <th>STATES</th>\n",
       "      <th>AREA (km2)</th>\n",
       "      <th>Population</th>\n",
       "    </tr>\n",
       "  </thead>\n",
       "  <tbody>\n",
       "    <tr>\n",
       "      <th>0</th>\n",
       "      <td>Abia State</td>\n",
       "      <td>6320</td>\n",
       "      <td>2845380</td>\n",
       "    </tr>\n",
       "    <tr>\n",
       "      <th>1</th>\n",
       "      <td>Adamawa State</td>\n",
       "      <td>36917</td>\n",
       "      <td>3178950</td>\n",
       "    </tr>\n",
       "    <tr>\n",
       "      <th>2</th>\n",
       "      <td>Akwa Ibom State</td>\n",
       "      <td>7081</td>\n",
       "      <td>3178950</td>\n",
       "    </tr>\n",
       "    <tr>\n",
       "      <th>3</th>\n",
       "      <td>Anambra State</td>\n",
       "      <td>4844</td>\n",
       "      <td>4177828</td>\n",
       "    </tr>\n",
       "    <tr>\n",
       "      <th>4</th>\n",
       "      <td>Bauchi State</td>\n",
       "      <td>45837</td>\n",
       "      <td>4653066</td>\n",
       "    </tr>\n",
       "  </tbody>\n",
       "</table>\n",
       "</div>"
      ],
      "text/plain": [
       "            STATES  AREA (km2)   Population\n",
       "0       Abia State         6320     2845380\n",
       "1    Adamawa State        36917     3178950\n",
       "2  Akwa Ibom State         7081     3178950\n",
       "3    Anambra State         4844     4177828\n",
       "4     Bauchi State        45837     4653066"
      ]
     },
     "execution_count": 16,
     "metadata": {},
     "output_type": "execute_result"
    }
   ],
   "source": [
    "K = pd.read_excel(\"C:/Users/User/Documents/AI DATA SET/Dataset AI Invasion/2006.xlsx\")\n",
    "K.head(5)"
   ]
  },
  {
   "cell_type": "code",
   "execution_count": 17,
   "id": "9381ba43",
   "metadata": {},
   "outputs": [
    {
     "data": {
      "text/html": [
       "<div>\n",
       "<style scoped>\n",
       "    .dataframe tbody tr th:only-of-type {\n",
       "        vertical-align: middle;\n",
       "    }\n",
       "\n",
       "    .dataframe tbody tr th {\n",
       "        vertical-align: top;\n",
       "    }\n",
       "\n",
       "    .dataframe thead th {\n",
       "        text-align: right;\n",
       "    }\n",
       "</style>\n",
       "<table border=\"1\" class=\"dataframe\">\n",
       "  <thead>\n",
       "    <tr style=\"text-align: right;\">\n",
       "      <th></th>\n",
       "      <th>AREA (km2)</th>\n",
       "      <th>Population</th>\n",
       "    </tr>\n",
       "  </thead>\n",
       "  <tbody>\n",
       "    <tr>\n",
       "      <th>count</th>\n",
       "      <td>37.000000</td>\n",
       "      <td>3.700000e+01</td>\n",
       "    </tr>\n",
       "    <tr>\n",
       "      <th>mean</th>\n",
       "      <td>24990.864865</td>\n",
       "      <td>3.775879e+06</td>\n",
       "    </tr>\n",
       "    <tr>\n",
       "      <th>std</th>\n",
       "      <td>18243.870444</td>\n",
       "      <td>1.726418e+06</td>\n",
       "    </tr>\n",
       "    <tr>\n",
       "      <th>min</th>\n",
       "      <td>3345.000000</td>\n",
       "      <td>1.405201e+06</td>\n",
       "    </tr>\n",
       "    <tr>\n",
       "      <th>25%</th>\n",
       "      <td>9251.000000</td>\n",
       "      <td>2.845380e+06</td>\n",
       "    </tr>\n",
       "    <tr>\n",
       "      <th>50%</th>\n",
       "      <td>20156.000000</td>\n",
       "      <td>3.314043e+06</td>\n",
       "    </tr>\n",
       "    <tr>\n",
       "      <th>75%</th>\n",
       "      <td>36800.000000</td>\n",
       "      <td>4.177828e+06</td>\n",
       "    </tr>\n",
       "    <tr>\n",
       "      <th>max</th>\n",
       "      <td>76363.000000</td>\n",
       "      <td>9.401288e+06</td>\n",
       "    </tr>\n",
       "  </tbody>\n",
       "</table>\n",
       "</div>"
      ],
      "text/plain": [
       "        AREA (km2)     Population\n",
       "count     37.000000  3.700000e+01\n",
       "mean   24990.864865  3.775879e+06\n",
       "std    18243.870444  1.726418e+06\n",
       "min     3345.000000  1.405201e+06\n",
       "25%     9251.000000  2.845380e+06\n",
       "50%    20156.000000  3.314043e+06\n",
       "75%    36800.000000  4.177828e+06\n",
       "max    76363.000000  9.401288e+06"
      ]
     },
     "execution_count": 17,
     "metadata": {},
     "output_type": "execute_result"
    }
   ],
   "source": [
    "K.describe()"
   ]
  },
  {
   "cell_type": "code",
   "execution_count": 18,
   "id": "6abaa8fb",
   "metadata": {},
   "outputs": [
    {
     "data": {
      "text/html": [
       "<div>\n",
       "<style scoped>\n",
       "    .dataframe tbody tr th:only-of-type {\n",
       "        vertical-align: middle;\n",
       "    }\n",
       "\n",
       "    .dataframe tbody tr th {\n",
       "        vertical-align: top;\n",
       "    }\n",
       "\n",
       "    .dataframe thead th {\n",
       "        text-align: right;\n",
       "    }\n",
       "</style>\n",
       "<table border=\"1\" class=\"dataframe\">\n",
       "  <thead>\n",
       "    <tr style=\"text-align: right;\">\n",
       "      <th></th>\n",
       "      <th>STATES</th>\n",
       "      <th>AREA (km2)</th>\n",
       "      <th>Population</th>\n",
       "    </tr>\n",
       "  </thead>\n",
       "  <tbody>\n",
       "    <tr>\n",
       "      <th>count</th>\n",
       "      <td>37</td>\n",
       "      <td>37.000000</td>\n",
       "      <td>3.700000e+01</td>\n",
       "    </tr>\n",
       "    <tr>\n",
       "      <th>unique</th>\n",
       "      <td>37</td>\n",
       "      <td>NaN</td>\n",
       "      <td>NaN</td>\n",
       "    </tr>\n",
       "    <tr>\n",
       "      <th>top</th>\n",
       "      <td>Abia State</td>\n",
       "      <td>NaN</td>\n",
       "      <td>NaN</td>\n",
       "    </tr>\n",
       "    <tr>\n",
       "      <th>freq</th>\n",
       "      <td>1</td>\n",
       "      <td>NaN</td>\n",
       "      <td>NaN</td>\n",
       "    </tr>\n",
       "    <tr>\n",
       "      <th>mean</th>\n",
       "      <td>NaN</td>\n",
       "      <td>24990.864865</td>\n",
       "      <td>3.775879e+06</td>\n",
       "    </tr>\n",
       "    <tr>\n",
       "      <th>std</th>\n",
       "      <td>NaN</td>\n",
       "      <td>18243.870444</td>\n",
       "      <td>1.726418e+06</td>\n",
       "    </tr>\n",
       "    <tr>\n",
       "      <th>min</th>\n",
       "      <td>NaN</td>\n",
       "      <td>3345.000000</td>\n",
       "      <td>1.405201e+06</td>\n",
       "    </tr>\n",
       "    <tr>\n",
       "      <th>25%</th>\n",
       "      <td>NaN</td>\n",
       "      <td>9251.000000</td>\n",
       "      <td>2.845380e+06</td>\n",
       "    </tr>\n",
       "    <tr>\n",
       "      <th>50%</th>\n",
       "      <td>NaN</td>\n",
       "      <td>20156.000000</td>\n",
       "      <td>3.314043e+06</td>\n",
       "    </tr>\n",
       "    <tr>\n",
       "      <th>75%</th>\n",
       "      <td>NaN</td>\n",
       "      <td>36800.000000</td>\n",
       "      <td>4.177828e+06</td>\n",
       "    </tr>\n",
       "    <tr>\n",
       "      <th>max</th>\n",
       "      <td>NaN</td>\n",
       "      <td>76363.000000</td>\n",
       "      <td>9.401288e+06</td>\n",
       "    </tr>\n",
       "  </tbody>\n",
       "</table>\n",
       "</div>"
      ],
      "text/plain": [
       "            STATES   AREA (km2)     Population\n",
       "count           37     37.000000  3.700000e+01\n",
       "unique          37           NaN           NaN\n",
       "top     Abia State           NaN           NaN\n",
       "freq             1           NaN           NaN\n",
       "mean           NaN  24990.864865  3.775879e+06\n",
       "std            NaN  18243.870444  1.726418e+06\n",
       "min            NaN   3345.000000  1.405201e+06\n",
       "25%            NaN   9251.000000  2.845380e+06\n",
       "50%            NaN  20156.000000  3.314043e+06\n",
       "75%            NaN  36800.000000  4.177828e+06\n",
       "max            NaN  76363.000000  9.401288e+06"
      ]
     },
     "execution_count": 18,
     "metadata": {},
     "output_type": "execute_result"
    }
   ],
   "source": [
    "#To include the non numerical variables\n",
    "K.describe(include = 'all')"
   ]
  },
  {
   "cell_type": "code",
   "execution_count": 19,
   "id": "3cf4d48a",
   "metadata": {},
   "outputs": [
    {
     "data": {
      "text/plain": [
       "Index(['STATES', 'AREA (km2) ', 'Population'], dtype='object')"
      ]
     },
     "execution_count": 19,
     "metadata": {},
     "output_type": "execute_result"
    }
   ],
   "source": [
    "#To get the columns\n",
    "K.columns"
   ]
  },
  {
   "cell_type": "code",
   "execution_count": 20,
   "id": "3bf97405",
   "metadata": {},
   "outputs": [
    {
     "name": "stdout",
     "output_type": "stream",
     "text": [
      "<class 'pandas.core.frame.DataFrame'>\n",
      "RangeIndex: 37 entries, 0 to 36\n",
      "Data columns (total 3 columns):\n",
      " #   Column       Non-Null Count  Dtype \n",
      "---  ------       --------------  ----- \n",
      " 0   STATES       37 non-null     object\n",
      " 1   AREA (km2)   37 non-null     int64 \n",
      " 2   Population   37 non-null     int64 \n",
      "dtypes: int64(2), object(1)\n",
      "memory usage: 1016.0+ bytes\n"
     ]
    }
   ],
   "source": [
    "#To get more information\n",
    "K.info()"
   ]
  },
  {
   "cell_type": "code",
   "execution_count": 21,
   "id": "11f97cf8",
   "metadata": {},
   "outputs": [
    {
     "name": "stdout",
     "output_type": "stream",
     "text": [
      "0         Abia State\n",
      "1      Adamawa State\n",
      "2    Akwa Ibom State\n",
      "3      Anambra State\n",
      "4       Bauchi State\n",
      "5      Bayelsa State\n",
      "6        Benue State\n",
      "7        Borno State\n",
      "8        Cross River\n",
      "9        Delta State\n",
      "Name: STATES, dtype: object\n"
     ]
    }
   ],
   "source": [
    "#To get the state column, population column and both together\n",
    "print((K['STATES']).head(10))"
   ]
  },
  {
   "cell_type": "code",
   "execution_count": 22,
   "id": "6b016939",
   "metadata": {},
   "outputs": [
    {
     "name": "stdout",
     "output_type": "stream",
     "text": [
      "0    2845380\n",
      "1    3178950\n",
      "2    3178950\n",
      "3    4177828\n",
      "4    4653066\n",
      "5    1704515\n",
      "6    4253641\n",
      "7    4171104\n",
      "8    2892988\n",
      "9    4112445\n",
      "Name: Population, dtype: int64\n"
     ]
    }
   ],
   "source": [
    "print((K['Population']).head(10))"
   ]
  },
  {
   "cell_type": "code",
   "execution_count": 23,
   "id": "67ef817d",
   "metadata": {},
   "outputs": [
    {
     "name": "stdout",
     "output_type": "stream",
     "text": [
      "            STATES  Population\n",
      "0       Abia State     2845380\n",
      "1    Adamawa State     3178950\n",
      "2  Akwa Ibom State     3178950\n",
      "3    Anambra State     4177828\n",
      "4     Bauchi State     4653066\n",
      "5    Bayelsa State     1704515\n",
      "6      Benue State     4253641\n",
      "7      Borno State     4171104\n",
      "8      Cross River     2892988\n",
      "9      Delta State     4112445\n"
     ]
    }
   ],
   "source": [
    "print((K[['STATES', 'Population']]).head(10))"
   ]
  },
  {
   "cell_type": "code",
   "execution_count": 24,
   "id": "56513763",
   "metadata": {},
   "outputs": [
    {
     "name": "stdout",
     "output_type": "stream",
     "text": [
      "            STATES  AREA (km2)   Population\n",
      "0       Abia State         6320     2845380\n",
      "1    Adamawa State        36917     3178950\n",
      "2  Akwa Ibom State         7081     3178950\n",
      "3    Anambra State         4844     4177828\n"
     ]
    }
   ],
   "source": [
    "#To print out the first four observations\n",
    "print(K[0:4])"
   ]
  },
  {
   "cell_type": "code",
   "execution_count": 25,
   "id": "73d84f52",
   "metadata": {},
   "outputs": [
    {
     "name": "stdout",
     "output_type": "stream",
     "text": [
      "          STATES  AREA (km2)   Population\n",
      "5  Bayelsa State        10773     1704515\n",
      "6    Benue State        34059     4253641\n",
      "7    Borno State        70898     4171104\n"
     ]
    }
   ],
   "source": [
    "#To print the 5th, 6th and 7th observations\n",
    "print(K[5:8])"
   ]
  },
  {
   "cell_type": "code",
   "execution_count": 26,
   "id": "c003be2e",
   "metadata": {},
   "outputs": [
    {
     "name": "stdout",
     "output_type": "stream",
     "text": [
      "STATES         Anambra State\n",
      "AREA (km2)              4844\n",
      "Population           4177828\n",
      "Name: 3, dtype: object\n"
     ]
    }
   ],
   "source": [
    "#Using iloc to get objects\n",
    "print(K.iloc[3])"
   ]
  },
  {
   "cell_type": "markdown",
   "id": "9a6d8f25",
   "metadata": {},
   "source": [
    "Dropping Features and Rows in a Dataset"
   ]
  },
  {
   "cell_type": "code",
   "execution_count": 27,
   "id": "8e967ecd",
   "metadata": {},
   "outputs": [
    {
     "name": "stdout",
     "output_type": "stream",
     "text": [
      "             STATES  AREA (km2) \n",
      "0        Abia State         6320\n",
      "1     Adamawa State        36917\n",
      "2   Akwa Ibom State         7081\n",
      "3     Anambra State         4844\n",
      "4      Bauchi State        45837\n",
      "5     Bayelsa State        10773\n",
      "6       Benue State        34059\n",
      "7       Borno State        70898\n",
      "8       Cross River        20156\n",
      "9       Delta State        17698\n",
      "10     Ebonyi State         5670\n",
      "11        Edo State        17802\n",
      "12      Ekiti State         6353\n",
      "13      Enugu State         7161\n",
      "14              FCT         7315\n",
      "15      Gombe State        18768\n",
      "16        Imo State         5530\n",
      "17     Jigawa State        23154\n",
      "18     Kaduna State        46053\n",
      "19       Kano State        20131\n",
      "20    Katsina State        24192\n",
      "21      Kebbi State        36800\n",
      "22       Kogi State        29833\n",
      "23      Kwara State        36825\n",
      "24      Lagos State         3345\n",
      "25   Nasarawa State        27117\n",
      "26      Niger State        76363\n",
      "27       Ogun State        16762\n",
      "28       Ondo State        15500\n",
      "29       Osun State         9251\n",
      "30        Oyo State        28454\n",
      "31    Plateau State        30913\n",
      "32     Rivers State        11077\n",
      "33     Sokoto State        25973\n",
      "34     Taraba State        54473\n",
      "35       Yobe State        45502\n",
      "36    Zamfara State        39762\n"
     ]
    }
   ],
   "source": [
    "#To drop the population column/feature\n",
    "print(K.drop(['Population'], axis = 1))"
   ]
  },
  {
   "cell_type": "code",
   "execution_count": 28,
   "id": "ed1b00a6",
   "metadata": {},
   "outputs": [
    {
     "data": {
      "text/html": [
       "<div>\n",
       "<style scoped>\n",
       "    .dataframe tbody tr th:only-of-type {\n",
       "        vertical-align: middle;\n",
       "    }\n",
       "\n",
       "    .dataframe tbody tr th {\n",
       "        vertical-align: top;\n",
       "    }\n",
       "\n",
       "    .dataframe thead th {\n",
       "        text-align: right;\n",
       "    }\n",
       "</style>\n",
       "<table border=\"1\" class=\"dataframe\">\n",
       "  <thead>\n",
       "    <tr style=\"text-align: right;\">\n",
       "      <th></th>\n",
       "      <th>STATES</th>\n",
       "      <th>AREA (km2)</th>\n",
       "      <th>Population</th>\n",
       "    </tr>\n",
       "  </thead>\n",
       "  <tbody>\n",
       "    <tr>\n",
       "      <th>0</th>\n",
       "      <td>Abia State</td>\n",
       "      <td>6320</td>\n",
       "      <td>2845380</td>\n",
       "    </tr>\n",
       "    <tr>\n",
       "      <th>1</th>\n",
       "      <td>Adamawa State</td>\n",
       "      <td>36917</td>\n",
       "      <td>3178950</td>\n",
       "    </tr>\n",
       "    <tr>\n",
       "      <th>2</th>\n",
       "      <td>Akwa Ibom State</td>\n",
       "      <td>7081</td>\n",
       "      <td>3178950</td>\n",
       "    </tr>\n",
       "    <tr>\n",
       "      <th>3</th>\n",
       "      <td>Anambra State</td>\n",
       "      <td>4844</td>\n",
       "      <td>4177828</td>\n",
       "    </tr>\n",
       "    <tr>\n",
       "      <th>4</th>\n",
       "      <td>Bauchi State</td>\n",
       "      <td>45837</td>\n",
       "      <td>4653066</td>\n",
       "    </tr>\n",
       "    <tr>\n",
       "      <th>5</th>\n",
       "      <td>Bayelsa State</td>\n",
       "      <td>10773</td>\n",
       "      <td>1704515</td>\n",
       "    </tr>\n",
       "    <tr>\n",
       "      <th>6</th>\n",
       "      <td>Benue State</td>\n",
       "      <td>34059</td>\n",
       "      <td>4253641</td>\n",
       "    </tr>\n",
       "    <tr>\n",
       "      <th>7</th>\n",
       "      <td>Borno State</td>\n",
       "      <td>70898</td>\n",
       "      <td>4171104</td>\n",
       "    </tr>\n",
       "    <tr>\n",
       "      <th>8</th>\n",
       "      <td>Cross River</td>\n",
       "      <td>20156</td>\n",
       "      <td>2892988</td>\n",
       "    </tr>\n",
       "    <tr>\n",
       "      <th>9</th>\n",
       "      <td>Delta State</td>\n",
       "      <td>17698</td>\n",
       "      <td>4112445</td>\n",
       "    </tr>\n",
       "    <tr>\n",
       "      <th>10</th>\n",
       "      <td>Ebonyi State</td>\n",
       "      <td>5670</td>\n",
       "      <td>2176947</td>\n",
       "    </tr>\n",
       "    <tr>\n",
       "      <th>11</th>\n",
       "      <td>Edo State</td>\n",
       "      <td>17802</td>\n",
       "      <td>3233366</td>\n",
       "    </tr>\n",
       "    <tr>\n",
       "      <th>12</th>\n",
       "      <td>Ekiti State</td>\n",
       "      <td>6353</td>\n",
       "      <td>2398957</td>\n",
       "    </tr>\n",
       "    <tr>\n",
       "      <th>13</th>\n",
       "      <td>Enugu State</td>\n",
       "      <td>7161</td>\n",
       "      <td>3267837</td>\n",
       "    </tr>\n",
       "    <tr>\n",
       "      <th>14</th>\n",
       "      <td>FCT</td>\n",
       "      <td>7315</td>\n",
       "      <td>1405201</td>\n",
       "    </tr>\n",
       "    <tr>\n",
       "      <th>15</th>\n",
       "      <td>Gombe State</td>\n",
       "      <td>18768</td>\n",
       "      <td>2365040</td>\n",
       "    </tr>\n",
       "    <tr>\n",
       "      <th>16</th>\n",
       "      <td>Imo State</td>\n",
       "      <td>5530</td>\n",
       "      <td>3927563</td>\n",
       "    </tr>\n",
       "    <tr>\n",
       "      <th>17</th>\n",
       "      <td>Jigawa State</td>\n",
       "      <td>23154</td>\n",
       "      <td>4361002</td>\n",
       "    </tr>\n",
       "    <tr>\n",
       "      <th>18</th>\n",
       "      <td>Kaduna State</td>\n",
       "      <td>46053</td>\n",
       "      <td>6113503</td>\n",
       "    </tr>\n",
       "    <tr>\n",
       "      <th>19</th>\n",
       "      <td>Kano State</td>\n",
       "      <td>20131</td>\n",
       "      <td>9401288</td>\n",
       "    </tr>\n",
       "    <tr>\n",
       "      <th>20</th>\n",
       "      <td>Katsina State</td>\n",
       "      <td>24192</td>\n",
       "      <td>5801584</td>\n",
       "    </tr>\n",
       "    <tr>\n",
       "      <th>21</th>\n",
       "      <td>Kebbi State</td>\n",
       "      <td>36800</td>\n",
       "      <td>3256541</td>\n",
       "    </tr>\n",
       "    <tr>\n",
       "      <th>22</th>\n",
       "      <td>Kogi State</td>\n",
       "      <td>29833</td>\n",
       "      <td>3314043</td>\n",
       "    </tr>\n",
       "    <tr>\n",
       "      <th>23</th>\n",
       "      <td>Kwara State</td>\n",
       "      <td>36825</td>\n",
       "      <td>2365353</td>\n",
       "    </tr>\n",
       "    <tr>\n",
       "      <th>24</th>\n",
       "      <td>Lagos State</td>\n",
       "      <td>3345</td>\n",
       "      <td>9113605</td>\n",
       "    </tr>\n",
       "    <tr>\n",
       "      <th>25</th>\n",
       "      <td>Nasarawa State</td>\n",
       "      <td>27117</td>\n",
       "      <td>1869377</td>\n",
       "    </tr>\n",
       "    <tr>\n",
       "      <th>26</th>\n",
       "      <td>Niger State</td>\n",
       "      <td>76363</td>\n",
       "      <td>3954772</td>\n",
       "    </tr>\n",
       "    <tr>\n",
       "      <th>27</th>\n",
       "      <td>Ogun State</td>\n",
       "      <td>16762</td>\n",
       "      <td>3751140</td>\n",
       "    </tr>\n",
       "    <tr>\n",
       "      <th>28</th>\n",
       "      <td>Ondo State</td>\n",
       "      <td>15500</td>\n",
       "      <td>3460877</td>\n",
       "    </tr>\n",
       "    <tr>\n",
       "      <th>29</th>\n",
       "      <td>Osun State</td>\n",
       "      <td>9251</td>\n",
       "      <td>3416959</td>\n",
       "    </tr>\n",
       "    <tr>\n",
       "      <th>30</th>\n",
       "      <td>Oyo State</td>\n",
       "      <td>28454</td>\n",
       "      <td>5580894</td>\n",
       "    </tr>\n",
       "    <tr>\n",
       "      <th>31</th>\n",
       "      <td>Plateau State</td>\n",
       "      <td>30913</td>\n",
       "      <td>3206531</td>\n",
       "    </tr>\n",
       "    <tr>\n",
       "      <th>32</th>\n",
       "      <td>Rivers State</td>\n",
       "      <td>11077</td>\n",
       "      <td>5198605</td>\n",
       "    </tr>\n",
       "    <tr>\n",
       "      <th>33</th>\n",
       "      <td>Sokoto State</td>\n",
       "      <td>25973</td>\n",
       "      <td>3702676</td>\n",
       "    </tr>\n",
       "    <tr>\n",
       "      <th>34</th>\n",
       "      <td>Taraba State</td>\n",
       "      <td>54473</td>\n",
       "      <td>2294800</td>\n",
       "    </tr>\n",
       "    <tr>\n",
       "      <th>35</th>\n",
       "      <td>Yobe State</td>\n",
       "      <td>45502</td>\n",
       "      <td>2321339</td>\n",
       "    </tr>\n",
       "    <tr>\n",
       "      <th>36</th>\n",
       "      <td>Zamfara State</td>\n",
       "      <td>39762</td>\n",
       "      <td>3278873</td>\n",
       "    </tr>\n",
       "  </tbody>\n",
       "</table>\n",
       "</div>"
      ],
      "text/plain": [
       "             STATES  AREA (km2)   Population\n",
       "0        Abia State         6320     2845380\n",
       "1     Adamawa State        36917     3178950\n",
       "2   Akwa Ibom State         7081     3178950\n",
       "3     Anambra State         4844     4177828\n",
       "4      Bauchi State        45837     4653066\n",
       "5     Bayelsa State        10773     1704515\n",
       "6       Benue State        34059     4253641\n",
       "7       Borno State        70898     4171104\n",
       "8       Cross River        20156     2892988\n",
       "9       Delta State        17698     4112445\n",
       "10     Ebonyi State         5670     2176947\n",
       "11        Edo State        17802     3233366\n",
       "12      Ekiti State         6353     2398957\n",
       "13      Enugu State         7161     3267837\n",
       "14              FCT         7315     1405201\n",
       "15      Gombe State        18768     2365040\n",
       "16        Imo State         5530     3927563\n",
       "17     Jigawa State        23154     4361002\n",
       "18     Kaduna State        46053     6113503\n",
       "19       Kano State        20131     9401288\n",
       "20    Katsina State        24192     5801584\n",
       "21      Kebbi State        36800     3256541\n",
       "22       Kogi State        29833     3314043\n",
       "23      Kwara State        36825     2365353\n",
       "24      Lagos State         3345     9113605\n",
       "25   Nasarawa State        27117     1869377\n",
       "26      Niger State        76363     3954772\n",
       "27       Ogun State        16762     3751140\n",
       "28       Ondo State        15500     3460877\n",
       "29       Osun State         9251     3416959\n",
       "30        Oyo State        28454     5580894\n",
       "31    Plateau State        30913     3206531\n",
       "32     Rivers State        11077     5198605\n",
       "33     Sokoto State        25973     3702676\n",
       "34     Taraba State        54473     2294800\n",
       "35       Yobe State        45502     2321339\n",
       "36    Zamfara State        39762     3278873"
      ]
     },
     "execution_count": 28,
     "metadata": {},
     "output_type": "execute_result"
    }
   ],
   "source": [
    "#To add features to the dataset\n",
    "K['Population'] = K['Population']\n",
    "K"
   ]
  },
  {
   "cell_type": "markdown",
   "id": "ca4f86eb",
   "metadata": {},
   "source": [
    "Changing Data type of Pandas datafram and pandas series"
   ]
  },
  {
   "cell_type": "code",
   "execution_count": 29,
   "id": "1b39d380",
   "metadata": {},
   "outputs": [
    {
     "data": {
      "text/html": [
       "<div>\n",
       "<style scoped>\n",
       "    .dataframe tbody tr th:only-of-type {\n",
       "        vertical-align: middle;\n",
       "    }\n",
       "\n",
       "    .dataframe tbody tr th {\n",
       "        vertical-align: top;\n",
       "    }\n",
       "\n",
       "    .dataframe thead th {\n",
       "        text-align: right;\n",
       "    }\n",
       "</style>\n",
       "<table border=\"1\" class=\"dataframe\">\n",
       "  <thead>\n",
       "    <tr style=\"text-align: right;\">\n",
       "      <th></th>\n",
       "      <th>STATES</th>\n",
       "      <th>AREA (km2)</th>\n",
       "      <th>Population</th>\n",
       "    </tr>\n",
       "  </thead>\n",
       "  <tbody>\n",
       "    <tr>\n",
       "      <th>0</th>\n",
       "      <td>Abia State</td>\n",
       "      <td>6320</td>\n",
       "      <td>2845380.0</td>\n",
       "    </tr>\n",
       "    <tr>\n",
       "      <th>1</th>\n",
       "      <td>Adamawa State</td>\n",
       "      <td>36917</td>\n",
       "      <td>3178950.0</td>\n",
       "    </tr>\n",
       "    <tr>\n",
       "      <th>2</th>\n",
       "      <td>Akwa Ibom State</td>\n",
       "      <td>7081</td>\n",
       "      <td>3178950.0</td>\n",
       "    </tr>\n",
       "    <tr>\n",
       "      <th>3</th>\n",
       "      <td>Anambra State</td>\n",
       "      <td>4844</td>\n",
       "      <td>4177828.0</td>\n",
       "    </tr>\n",
       "    <tr>\n",
       "      <th>4</th>\n",
       "      <td>Bauchi State</td>\n",
       "      <td>45837</td>\n",
       "      <td>4653066.0</td>\n",
       "    </tr>\n",
       "    <tr>\n",
       "      <th>5</th>\n",
       "      <td>Bayelsa State</td>\n",
       "      <td>10773</td>\n",
       "      <td>1704515.0</td>\n",
       "    </tr>\n",
       "    <tr>\n",
       "      <th>6</th>\n",
       "      <td>Benue State</td>\n",
       "      <td>34059</td>\n",
       "      <td>4253641.0</td>\n",
       "    </tr>\n",
       "    <tr>\n",
       "      <th>7</th>\n",
       "      <td>Borno State</td>\n",
       "      <td>70898</td>\n",
       "      <td>4171104.0</td>\n",
       "    </tr>\n",
       "    <tr>\n",
       "      <th>8</th>\n",
       "      <td>Cross River</td>\n",
       "      <td>20156</td>\n",
       "      <td>2892988.0</td>\n",
       "    </tr>\n",
       "    <tr>\n",
       "      <th>9</th>\n",
       "      <td>Delta State</td>\n",
       "      <td>17698</td>\n",
       "      <td>4112445.0</td>\n",
       "    </tr>\n",
       "  </tbody>\n",
       "</table>\n",
       "</div>"
      ],
      "text/plain": [
       "            STATES  AREA (km2)   Population\n",
       "0       Abia State         6320   2845380.0\n",
       "1    Adamawa State        36917   3178950.0\n",
       "2  Akwa Ibom State         7081   3178950.0\n",
       "3    Anambra State         4844   4177828.0\n",
       "4     Bauchi State        45837   4653066.0\n",
       "5    Bayelsa State        10773   1704515.0\n",
       "6      Benue State        34059   4253641.0\n",
       "7      Borno State        70898   4171104.0\n",
       "8      Cross River        20156   2892988.0\n",
       "9      Delta State        17698   4112445.0"
      ]
     },
     "execution_count": 29,
     "metadata": {},
     "output_type": "execute_result"
    }
   ],
   "source": [
    "#To change the data type of population to float\n",
    "K['Population'] = K['Population'].astype('float')\n",
    "K.head(10)"
   ]
  },
  {
   "cell_type": "markdown",
   "id": "41f4e1c3",
   "metadata": {},
   "source": [
    "Pandas Sorting Method: index or value"
   ]
  },
  {
   "cell_type": "code",
   "execution_count": 30,
   "id": "28b6c493",
   "metadata": {},
   "outputs": [],
   "source": [
    "K.sort_index(inplace = True, ascending = False)"
   ]
  },
  {
   "cell_type": "code",
   "execution_count": 31,
   "id": "6339c043",
   "metadata": {},
   "outputs": [
    {
     "data": {
      "text/html": [
       "<div>\n",
       "<style scoped>\n",
       "    .dataframe tbody tr th:only-of-type {\n",
       "        vertical-align: middle;\n",
       "    }\n",
       "\n",
       "    .dataframe tbody tr th {\n",
       "        vertical-align: top;\n",
       "    }\n",
       "\n",
       "    .dataframe thead th {\n",
       "        text-align: right;\n",
       "    }\n",
       "</style>\n",
       "<table border=\"1\" class=\"dataframe\">\n",
       "  <thead>\n",
       "    <tr style=\"text-align: right;\">\n",
       "      <th></th>\n",
       "      <th>STATES</th>\n",
       "      <th>AREA (km2)</th>\n",
       "      <th>Population</th>\n",
       "    </tr>\n",
       "  </thead>\n",
       "  <tbody>\n",
       "    <tr>\n",
       "      <th>36</th>\n",
       "      <td>Zamfara State</td>\n",
       "      <td>39762</td>\n",
       "      <td>3278873.0</td>\n",
       "    </tr>\n",
       "    <tr>\n",
       "      <th>35</th>\n",
       "      <td>Yobe State</td>\n",
       "      <td>45502</td>\n",
       "      <td>2321339.0</td>\n",
       "    </tr>\n",
       "    <tr>\n",
       "      <th>34</th>\n",
       "      <td>Taraba State</td>\n",
       "      <td>54473</td>\n",
       "      <td>2294800.0</td>\n",
       "    </tr>\n",
       "    <tr>\n",
       "      <th>33</th>\n",
       "      <td>Sokoto State</td>\n",
       "      <td>25973</td>\n",
       "      <td>3702676.0</td>\n",
       "    </tr>\n",
       "    <tr>\n",
       "      <th>32</th>\n",
       "      <td>Rivers State</td>\n",
       "      <td>11077</td>\n",
       "      <td>5198605.0</td>\n",
       "    </tr>\n",
       "    <tr>\n",
       "      <th>31</th>\n",
       "      <td>Plateau State</td>\n",
       "      <td>30913</td>\n",
       "      <td>3206531.0</td>\n",
       "    </tr>\n",
       "    <tr>\n",
       "      <th>30</th>\n",
       "      <td>Oyo State</td>\n",
       "      <td>28454</td>\n",
       "      <td>5580894.0</td>\n",
       "    </tr>\n",
       "    <tr>\n",
       "      <th>29</th>\n",
       "      <td>Osun State</td>\n",
       "      <td>9251</td>\n",
       "      <td>3416959.0</td>\n",
       "    </tr>\n",
       "    <tr>\n",
       "      <th>28</th>\n",
       "      <td>Ondo State</td>\n",
       "      <td>15500</td>\n",
       "      <td>3460877.0</td>\n",
       "    </tr>\n",
       "    <tr>\n",
       "      <th>27</th>\n",
       "      <td>Ogun State</td>\n",
       "      <td>16762</td>\n",
       "      <td>3751140.0</td>\n",
       "    </tr>\n",
       "    <tr>\n",
       "      <th>26</th>\n",
       "      <td>Niger State</td>\n",
       "      <td>76363</td>\n",
       "      <td>3954772.0</td>\n",
       "    </tr>\n",
       "    <tr>\n",
       "      <th>25</th>\n",
       "      <td>Nasarawa State</td>\n",
       "      <td>27117</td>\n",
       "      <td>1869377.0</td>\n",
       "    </tr>\n",
       "    <tr>\n",
       "      <th>24</th>\n",
       "      <td>Lagos State</td>\n",
       "      <td>3345</td>\n",
       "      <td>9113605.0</td>\n",
       "    </tr>\n",
       "    <tr>\n",
       "      <th>23</th>\n",
       "      <td>Kwara State</td>\n",
       "      <td>36825</td>\n",
       "      <td>2365353.0</td>\n",
       "    </tr>\n",
       "    <tr>\n",
       "      <th>22</th>\n",
       "      <td>Kogi State</td>\n",
       "      <td>29833</td>\n",
       "      <td>3314043.0</td>\n",
       "    </tr>\n",
       "    <tr>\n",
       "      <th>21</th>\n",
       "      <td>Kebbi State</td>\n",
       "      <td>36800</td>\n",
       "      <td>3256541.0</td>\n",
       "    </tr>\n",
       "    <tr>\n",
       "      <th>20</th>\n",
       "      <td>Katsina State</td>\n",
       "      <td>24192</td>\n",
       "      <td>5801584.0</td>\n",
       "    </tr>\n",
       "    <tr>\n",
       "      <th>19</th>\n",
       "      <td>Kano State</td>\n",
       "      <td>20131</td>\n",
       "      <td>9401288.0</td>\n",
       "    </tr>\n",
       "    <tr>\n",
       "      <th>18</th>\n",
       "      <td>Kaduna State</td>\n",
       "      <td>46053</td>\n",
       "      <td>6113503.0</td>\n",
       "    </tr>\n",
       "    <tr>\n",
       "      <th>17</th>\n",
       "      <td>Jigawa State</td>\n",
       "      <td>23154</td>\n",
       "      <td>4361002.0</td>\n",
       "    </tr>\n",
       "    <tr>\n",
       "      <th>16</th>\n",
       "      <td>Imo State</td>\n",
       "      <td>5530</td>\n",
       "      <td>3927563.0</td>\n",
       "    </tr>\n",
       "    <tr>\n",
       "      <th>15</th>\n",
       "      <td>Gombe State</td>\n",
       "      <td>18768</td>\n",
       "      <td>2365040.0</td>\n",
       "    </tr>\n",
       "    <tr>\n",
       "      <th>14</th>\n",
       "      <td>FCT</td>\n",
       "      <td>7315</td>\n",
       "      <td>1405201.0</td>\n",
       "    </tr>\n",
       "    <tr>\n",
       "      <th>13</th>\n",
       "      <td>Enugu State</td>\n",
       "      <td>7161</td>\n",
       "      <td>3267837.0</td>\n",
       "    </tr>\n",
       "    <tr>\n",
       "      <th>12</th>\n",
       "      <td>Ekiti State</td>\n",
       "      <td>6353</td>\n",
       "      <td>2398957.0</td>\n",
       "    </tr>\n",
       "    <tr>\n",
       "      <th>11</th>\n",
       "      <td>Edo State</td>\n",
       "      <td>17802</td>\n",
       "      <td>3233366.0</td>\n",
       "    </tr>\n",
       "    <tr>\n",
       "      <th>10</th>\n",
       "      <td>Ebonyi State</td>\n",
       "      <td>5670</td>\n",
       "      <td>2176947.0</td>\n",
       "    </tr>\n",
       "    <tr>\n",
       "      <th>9</th>\n",
       "      <td>Delta State</td>\n",
       "      <td>17698</td>\n",
       "      <td>4112445.0</td>\n",
       "    </tr>\n",
       "    <tr>\n",
       "      <th>8</th>\n",
       "      <td>Cross River</td>\n",
       "      <td>20156</td>\n",
       "      <td>2892988.0</td>\n",
       "    </tr>\n",
       "    <tr>\n",
       "      <th>7</th>\n",
       "      <td>Borno State</td>\n",
       "      <td>70898</td>\n",
       "      <td>4171104.0</td>\n",
       "    </tr>\n",
       "    <tr>\n",
       "      <th>6</th>\n",
       "      <td>Benue State</td>\n",
       "      <td>34059</td>\n",
       "      <td>4253641.0</td>\n",
       "    </tr>\n",
       "    <tr>\n",
       "      <th>5</th>\n",
       "      <td>Bayelsa State</td>\n",
       "      <td>10773</td>\n",
       "      <td>1704515.0</td>\n",
       "    </tr>\n",
       "    <tr>\n",
       "      <th>4</th>\n",
       "      <td>Bauchi State</td>\n",
       "      <td>45837</td>\n",
       "      <td>4653066.0</td>\n",
       "    </tr>\n",
       "    <tr>\n",
       "      <th>3</th>\n",
       "      <td>Anambra State</td>\n",
       "      <td>4844</td>\n",
       "      <td>4177828.0</td>\n",
       "    </tr>\n",
       "    <tr>\n",
       "      <th>2</th>\n",
       "      <td>Akwa Ibom State</td>\n",
       "      <td>7081</td>\n",
       "      <td>3178950.0</td>\n",
       "    </tr>\n",
       "    <tr>\n",
       "      <th>1</th>\n",
       "      <td>Adamawa State</td>\n",
       "      <td>36917</td>\n",
       "      <td>3178950.0</td>\n",
       "    </tr>\n",
       "    <tr>\n",
       "      <th>0</th>\n",
       "      <td>Abia State</td>\n",
       "      <td>6320</td>\n",
       "      <td>2845380.0</td>\n",
       "    </tr>\n",
       "  </tbody>\n",
       "</table>\n",
       "</div>"
      ],
      "text/plain": [
       "             STATES  AREA (km2)   Population\n",
       "36    Zamfara State        39762   3278873.0\n",
       "35       Yobe State        45502   2321339.0\n",
       "34     Taraba State        54473   2294800.0\n",
       "33     Sokoto State        25973   3702676.0\n",
       "32     Rivers State        11077   5198605.0\n",
       "31    Plateau State        30913   3206531.0\n",
       "30        Oyo State        28454   5580894.0\n",
       "29       Osun State         9251   3416959.0\n",
       "28       Ondo State        15500   3460877.0\n",
       "27       Ogun State        16762   3751140.0\n",
       "26      Niger State        76363   3954772.0\n",
       "25   Nasarawa State        27117   1869377.0\n",
       "24      Lagos State         3345   9113605.0\n",
       "23      Kwara State        36825   2365353.0\n",
       "22       Kogi State        29833   3314043.0\n",
       "21      Kebbi State        36800   3256541.0\n",
       "20    Katsina State        24192   5801584.0\n",
       "19       Kano State        20131   9401288.0\n",
       "18     Kaduna State        46053   6113503.0\n",
       "17     Jigawa State        23154   4361002.0\n",
       "16        Imo State         5530   3927563.0\n",
       "15      Gombe State        18768   2365040.0\n",
       "14              FCT         7315   1405201.0\n",
       "13      Enugu State         7161   3267837.0\n",
       "12      Ekiti State         6353   2398957.0\n",
       "11        Edo State        17802   3233366.0\n",
       "10     Ebonyi State         5670   2176947.0\n",
       "9       Delta State        17698   4112445.0\n",
       "8       Cross River        20156   2892988.0\n",
       "7       Borno State        70898   4171104.0\n",
       "6       Benue State        34059   4253641.0\n",
       "5     Bayelsa State        10773   1704515.0\n",
       "4      Bauchi State        45837   4653066.0\n",
       "3     Anambra State         4844   4177828.0\n",
       "2   Akwa Ibom State         7081   3178950.0\n",
       "1     Adamawa State        36917   3178950.0\n",
       "0        Abia State         6320   2845380.0"
      ]
     },
     "execution_count": 31,
     "metadata": {},
     "output_type": "execute_result"
    }
   ],
   "source": [
    "K"
   ]
  },
  {
   "cell_type": "code",
   "execution_count": 32,
   "id": "d76861f6",
   "metadata": {},
   "outputs": [
    {
     "data": {
      "text/html": [
       "<div>\n",
       "<style scoped>\n",
       "    .dataframe tbody tr th:only-of-type {\n",
       "        vertical-align: middle;\n",
       "    }\n",
       "\n",
       "    .dataframe tbody tr th {\n",
       "        vertical-align: top;\n",
       "    }\n",
       "\n",
       "    .dataframe thead th {\n",
       "        text-align: right;\n",
       "    }\n",
       "</style>\n",
       "<table border=\"1\" class=\"dataframe\">\n",
       "  <thead>\n",
       "    <tr style=\"text-align: right;\">\n",
       "      <th></th>\n",
       "      <th>STATES</th>\n",
       "      <th>AREA (km2)</th>\n",
       "      <th>Population</th>\n",
       "    </tr>\n",
       "  </thead>\n",
       "  <tbody>\n",
       "    <tr>\n",
       "      <th>36</th>\n",
       "      <td>Zamfara State</td>\n",
       "      <td>39762</td>\n",
       "      <td>3278873.0</td>\n",
       "    </tr>\n",
       "    <tr>\n",
       "      <th>35</th>\n",
       "      <td>Yobe State</td>\n",
       "      <td>45502</td>\n",
       "      <td>2321339.0</td>\n",
       "    </tr>\n",
       "    <tr>\n",
       "      <th>34</th>\n",
       "      <td>Taraba State</td>\n",
       "      <td>54473</td>\n",
       "      <td>2294800.0</td>\n",
       "    </tr>\n",
       "    <tr>\n",
       "      <th>33</th>\n",
       "      <td>Sokoto State</td>\n",
       "      <td>25973</td>\n",
       "      <td>3702676.0</td>\n",
       "    </tr>\n",
       "    <tr>\n",
       "      <th>32</th>\n",
       "      <td>Rivers State</td>\n",
       "      <td>11077</td>\n",
       "      <td>5198605.0</td>\n",
       "    </tr>\n",
       "    <tr>\n",
       "      <th>31</th>\n",
       "      <td>Plateau State</td>\n",
       "      <td>30913</td>\n",
       "      <td>3206531.0</td>\n",
       "    </tr>\n",
       "    <tr>\n",
       "      <th>30</th>\n",
       "      <td>Oyo State</td>\n",
       "      <td>28454</td>\n",
       "      <td>5580894.0</td>\n",
       "    </tr>\n",
       "    <tr>\n",
       "      <th>29</th>\n",
       "      <td>Osun State</td>\n",
       "      <td>9251</td>\n",
       "      <td>3416959.0</td>\n",
       "    </tr>\n",
       "    <tr>\n",
       "      <th>28</th>\n",
       "      <td>Ondo State</td>\n",
       "      <td>15500</td>\n",
       "      <td>3460877.0</td>\n",
       "    </tr>\n",
       "    <tr>\n",
       "      <th>27</th>\n",
       "      <td>Ogun State</td>\n",
       "      <td>16762</td>\n",
       "      <td>3751140.0</td>\n",
       "    </tr>\n",
       "    <tr>\n",
       "      <th>26</th>\n",
       "      <td>Niger State</td>\n",
       "      <td>76363</td>\n",
       "      <td>3954772.0</td>\n",
       "    </tr>\n",
       "    <tr>\n",
       "      <th>25</th>\n",
       "      <td>Nasarawa State</td>\n",
       "      <td>27117</td>\n",
       "      <td>1869377.0</td>\n",
       "    </tr>\n",
       "    <tr>\n",
       "      <th>24</th>\n",
       "      <td>Lagos State</td>\n",
       "      <td>3345</td>\n",
       "      <td>9113605.0</td>\n",
       "    </tr>\n",
       "    <tr>\n",
       "      <th>23</th>\n",
       "      <td>Kwara State</td>\n",
       "      <td>36825</td>\n",
       "      <td>2365353.0</td>\n",
       "    </tr>\n",
       "    <tr>\n",
       "      <th>22</th>\n",
       "      <td>Kogi State</td>\n",
       "      <td>29833</td>\n",
       "      <td>3314043.0</td>\n",
       "    </tr>\n",
       "    <tr>\n",
       "      <th>21</th>\n",
       "      <td>Kebbi State</td>\n",
       "      <td>36800</td>\n",
       "      <td>3256541.0</td>\n",
       "    </tr>\n",
       "    <tr>\n",
       "      <th>20</th>\n",
       "      <td>Katsina State</td>\n",
       "      <td>24192</td>\n",
       "      <td>5801584.0</td>\n",
       "    </tr>\n",
       "    <tr>\n",
       "      <th>19</th>\n",
       "      <td>Kano State</td>\n",
       "      <td>20131</td>\n",
       "      <td>9401288.0</td>\n",
       "    </tr>\n",
       "    <tr>\n",
       "      <th>18</th>\n",
       "      <td>Kaduna State</td>\n",
       "      <td>46053</td>\n",
       "      <td>6113503.0</td>\n",
       "    </tr>\n",
       "    <tr>\n",
       "      <th>17</th>\n",
       "      <td>Jigawa State</td>\n",
       "      <td>23154</td>\n",
       "      <td>4361002.0</td>\n",
       "    </tr>\n",
       "    <tr>\n",
       "      <th>16</th>\n",
       "      <td>Imo State</td>\n",
       "      <td>5530</td>\n",
       "      <td>3927563.0</td>\n",
       "    </tr>\n",
       "    <tr>\n",
       "      <th>15</th>\n",
       "      <td>Gombe State</td>\n",
       "      <td>18768</td>\n",
       "      <td>2365040.0</td>\n",
       "    </tr>\n",
       "    <tr>\n",
       "      <th>14</th>\n",
       "      <td>FCT</td>\n",
       "      <td>7315</td>\n",
       "      <td>1405201.0</td>\n",
       "    </tr>\n",
       "    <tr>\n",
       "      <th>13</th>\n",
       "      <td>Enugu State</td>\n",
       "      <td>7161</td>\n",
       "      <td>3267837.0</td>\n",
       "    </tr>\n",
       "    <tr>\n",
       "      <th>12</th>\n",
       "      <td>Ekiti State</td>\n",
       "      <td>6353</td>\n",
       "      <td>2398957.0</td>\n",
       "    </tr>\n",
       "    <tr>\n",
       "      <th>11</th>\n",
       "      <td>Edo State</td>\n",
       "      <td>17802</td>\n",
       "      <td>3233366.0</td>\n",
       "    </tr>\n",
       "    <tr>\n",
       "      <th>10</th>\n",
       "      <td>Ebonyi State</td>\n",
       "      <td>5670</td>\n",
       "      <td>2176947.0</td>\n",
       "    </tr>\n",
       "    <tr>\n",
       "      <th>9</th>\n",
       "      <td>Delta State</td>\n",
       "      <td>17698</td>\n",
       "      <td>4112445.0</td>\n",
       "    </tr>\n",
       "    <tr>\n",
       "      <th>8</th>\n",
       "      <td>Cross River</td>\n",
       "      <td>20156</td>\n",
       "      <td>2892988.0</td>\n",
       "    </tr>\n",
       "    <tr>\n",
       "      <th>7</th>\n",
       "      <td>Borno State</td>\n",
       "      <td>70898</td>\n",
       "      <td>4171104.0</td>\n",
       "    </tr>\n",
       "    <tr>\n",
       "      <th>6</th>\n",
       "      <td>Benue State</td>\n",
       "      <td>34059</td>\n",
       "      <td>4253641.0</td>\n",
       "    </tr>\n",
       "    <tr>\n",
       "      <th>5</th>\n",
       "      <td>Bayelsa State</td>\n",
       "      <td>10773</td>\n",
       "      <td>1704515.0</td>\n",
       "    </tr>\n",
       "    <tr>\n",
       "      <th>4</th>\n",
       "      <td>Bauchi State</td>\n",
       "      <td>45837</td>\n",
       "      <td>4653066.0</td>\n",
       "    </tr>\n",
       "    <tr>\n",
       "      <th>3</th>\n",
       "      <td>Anambra State</td>\n",
       "      <td>4844</td>\n",
       "      <td>4177828.0</td>\n",
       "    </tr>\n",
       "    <tr>\n",
       "      <th>2</th>\n",
       "      <td>Akwa Ibom State</td>\n",
       "      <td>7081</td>\n",
       "      <td>3178950.0</td>\n",
       "    </tr>\n",
       "    <tr>\n",
       "      <th>1</th>\n",
       "      <td>Adamawa State</td>\n",
       "      <td>36917</td>\n",
       "      <td>3178950.0</td>\n",
       "    </tr>\n",
       "    <tr>\n",
       "      <th>0</th>\n",
       "      <td>Abia State</td>\n",
       "      <td>6320</td>\n",
       "      <td>2845380.0</td>\n",
       "    </tr>\n",
       "  </tbody>\n",
       "</table>\n",
       "</div>"
      ],
      "text/plain": [
       "             STATES  AREA (km2)   Population\n",
       "36    Zamfara State        39762   3278873.0\n",
       "35       Yobe State        45502   2321339.0\n",
       "34     Taraba State        54473   2294800.0\n",
       "33     Sokoto State        25973   3702676.0\n",
       "32     Rivers State        11077   5198605.0\n",
       "31    Plateau State        30913   3206531.0\n",
       "30        Oyo State        28454   5580894.0\n",
       "29       Osun State         9251   3416959.0\n",
       "28       Ondo State        15500   3460877.0\n",
       "27       Ogun State        16762   3751140.0\n",
       "26      Niger State        76363   3954772.0\n",
       "25   Nasarawa State        27117   1869377.0\n",
       "24      Lagos State         3345   9113605.0\n",
       "23      Kwara State        36825   2365353.0\n",
       "22       Kogi State        29833   3314043.0\n",
       "21      Kebbi State        36800   3256541.0\n",
       "20    Katsina State        24192   5801584.0\n",
       "19       Kano State        20131   9401288.0\n",
       "18     Kaduna State        46053   6113503.0\n",
       "17     Jigawa State        23154   4361002.0\n",
       "16        Imo State         5530   3927563.0\n",
       "15      Gombe State        18768   2365040.0\n",
       "14              FCT         7315   1405201.0\n",
       "13      Enugu State         7161   3267837.0\n",
       "12      Ekiti State         6353   2398957.0\n",
       "11        Edo State        17802   3233366.0\n",
       "10     Ebonyi State         5670   2176947.0\n",
       "9       Delta State        17698   4112445.0\n",
       "8       Cross River        20156   2892988.0\n",
       "7       Borno State        70898   4171104.0\n",
       "6       Benue State        34059   4253641.0\n",
       "5     Bayelsa State        10773   1704515.0\n",
       "4      Bauchi State        45837   4653066.0\n",
       "3     Anambra State         4844   4177828.0\n",
       "2   Akwa Ibom State         7081   3178950.0\n",
       "1     Adamawa State        36917   3178950.0\n",
       "0        Abia State         6320   2845380.0"
      ]
     },
     "execution_count": 32,
     "metadata": {},
     "output_type": "execute_result"
    }
   ],
   "source": [
    "#Sorting with Value\n",
    "\n",
    "K.sort_values('STATES', axis = 0, ascending = False, inplace = True)\n",
    "K"
   ]
  },
  {
   "cell_type": "markdown",
   "id": "ab164175",
   "metadata": {},
   "source": [
    "The objective of the regression task is to predict the amount of tip (gratuity in Nigeria naira) \n",
    "given to a food server based on total_bill, gender, smoker (whether they smoke in the party or \n",
    "not), day (day of the week for the party), time (time of the day whether for lunch or dinner), \n",
    "and size (size of the party) in Mama Tee restaurant.."
   ]
  },
  {
   "cell_type": "code",
   "execution_count": 33,
   "id": "f1e778a8",
   "metadata": {},
   "outputs": [],
   "source": [
    "#Predicting tip using the method od OLS\n",
    "import numpy as np\n",
    "import pandas as pd\n",
    "import matplotlib.pyplot as plt\n",
    "import seaborn as sns"
   ]
  },
  {
   "cell_type": "code",
   "execution_count": 34,
   "id": "c8bf5e4a",
   "metadata": {},
   "outputs": [
    {
     "data": {
      "text/html": [
       "<div>\n",
       "<style scoped>\n",
       "    .dataframe tbody tr th:only-of-type {\n",
       "        vertical-align: middle;\n",
       "    }\n",
       "\n",
       "    .dataframe tbody tr th {\n",
       "        vertical-align: top;\n",
       "    }\n",
       "\n",
       "    .dataframe thead th {\n",
       "        text-align: right;\n",
       "    }\n",
       "</style>\n",
       "<table border=\"1\" class=\"dataframe\">\n",
       "  <thead>\n",
       "    <tr style=\"text-align: right;\">\n",
       "      <th></th>\n",
       "      <th>total_bill</th>\n",
       "      <th>tip</th>\n",
       "      <th>gender</th>\n",
       "      <th>smoker</th>\n",
       "      <th>day</th>\n",
       "      <th>time</th>\n",
       "      <th>size</th>\n",
       "    </tr>\n",
       "  </thead>\n",
       "  <tbody>\n",
       "    <tr>\n",
       "      <th>0</th>\n",
       "      <td>2125.50</td>\n",
       "      <td>360.79</td>\n",
       "      <td>Male</td>\n",
       "      <td>No</td>\n",
       "      <td>Thur</td>\n",
       "      <td>Lunch</td>\n",
       "      <td>1</td>\n",
       "    </tr>\n",
       "    <tr>\n",
       "      <th>1</th>\n",
       "      <td>2727.18</td>\n",
       "      <td>259.42</td>\n",
       "      <td>Female</td>\n",
       "      <td>No</td>\n",
       "      <td>Sun</td>\n",
       "      <td>Dinner</td>\n",
       "      <td>5</td>\n",
       "    </tr>\n",
       "    <tr>\n",
       "      <th>2</th>\n",
       "      <td>1066.02</td>\n",
       "      <td>274.68</td>\n",
       "      <td>Female</td>\n",
       "      <td>Yes</td>\n",
       "      <td>Thur</td>\n",
       "      <td>Dinner</td>\n",
       "      <td>4</td>\n",
       "    </tr>\n",
       "    <tr>\n",
       "      <th>3</th>\n",
       "      <td>3493.45</td>\n",
       "      <td>337.90</td>\n",
       "      <td>Female</td>\n",
       "      <td>No</td>\n",
       "      <td>Sun</td>\n",
       "      <td>Dinner</td>\n",
       "      <td>1</td>\n",
       "    </tr>\n",
       "    <tr>\n",
       "      <th>4</th>\n",
       "      <td>3470.56</td>\n",
       "      <td>567.89</td>\n",
       "      <td>Male</td>\n",
       "      <td>Yes</td>\n",
       "      <td>Sun</td>\n",
       "      <td>Lunch</td>\n",
       "      <td>6</td>\n",
       "    </tr>\n",
       "    <tr>\n",
       "      <th>5</th>\n",
       "      <td>2411.08</td>\n",
       "      <td>296.48</td>\n",
       "      <td>Female</td>\n",
       "      <td>Yes</td>\n",
       "      <td>Thur</td>\n",
       "      <td>Lunch</td>\n",
       "      <td>2</td>\n",
       "    </tr>\n",
       "    <tr>\n",
       "      <th>6</th>\n",
       "      <td>4607.43</td>\n",
       "      <td>374.96</td>\n",
       "      <td>Female</td>\n",
       "      <td>No</td>\n",
       "      <td>Thur</td>\n",
       "      <td>Dinner</td>\n",
       "      <td>4</td>\n",
       "    </tr>\n",
       "    <tr>\n",
       "      <th>7</th>\n",
       "      <td>1165.21</td>\n",
       "      <td>700.87</td>\n",
       "      <td>Female</td>\n",
       "      <td>No</td>\n",
       "      <td>Mon</td>\n",
       "      <td>Dinner</td>\n",
       "      <td>2</td>\n",
       "    </tr>\n",
       "    <tr>\n",
       "      <th>8</th>\n",
       "      <td>2895.04</td>\n",
       "      <td>347.71</td>\n",
       "      <td>Male</td>\n",
       "      <td>No</td>\n",
       "      <td>Sat</td>\n",
       "      <td>Dinner</td>\n",
       "      <td>5</td>\n",
       "    </tr>\n",
       "    <tr>\n",
       "      <th>9</th>\n",
       "      <td>2622.54</td>\n",
       "      <td>253.97</td>\n",
       "      <td>Male</td>\n",
       "      <td>Yes</td>\n",
       "      <td>Thur</td>\n",
       "      <td>Lunch</td>\n",
       "      <td>6</td>\n",
       "    </tr>\n",
       "  </tbody>\n",
       "</table>\n",
       "</div>"
      ],
      "text/plain": [
       "   total_bill     tip  gender smoker   day    time  size\n",
       "0     2125.50  360.79    Male     No  Thur   Lunch     1\n",
       "1     2727.18  259.42  Female     No   Sun  Dinner     5\n",
       "2     1066.02  274.68  Female    Yes  Thur  Dinner     4\n",
       "3     3493.45  337.90  Female     No   Sun  Dinner     1\n",
       "4     3470.56  567.89    Male    Yes   Sun   Lunch     6\n",
       "5     2411.08  296.48  Female    Yes  Thur   Lunch     2\n",
       "6     4607.43  374.96  Female     No  Thur  Dinner     4\n",
       "7     1165.21  700.87  Female     No   Mon  Dinner     2\n",
       "8     2895.04  347.71    Male     No   Sat  Dinner     5\n",
       "9     2622.54  253.97    Male    Yes  Thur   Lunch     6"
      ]
     },
     "execution_count": 34,
     "metadata": {},
     "output_type": "execute_result"
    }
   ],
   "source": [
    "Tip = pd.read_csv(\"C:/Users/User/Documents/AI DATA SET/Dataset AI Invasion/tips.csv\")\n",
    "Tip.head(10)"
   ]
  },
  {
   "cell_type": "code",
   "execution_count": 35,
   "id": "8a851a16",
   "metadata": {},
   "outputs": [
    {
     "data": {
      "text/plain": [
       "(744, 7)"
      ]
     },
     "execution_count": 35,
     "metadata": {},
     "output_type": "execute_result"
    }
   ],
   "source": [
    "Tip.shape"
   ]
  },
  {
   "cell_type": "markdown",
   "id": "2bda5b04",
   "metadata": {},
   "source": [
    "Relationship with categorical Variables"
   ]
  },
  {
   "cell_type": "code",
   "execution_count": 36,
   "id": "c6b27431",
   "metadata": {},
   "outputs": [
    {
     "data": {
      "text/plain": [
       "Text(0, 0.5, 'Amount of Tip')"
      ]
     },
     "execution_count": 36,
     "metadata": {},
     "output_type": "execute_result"
    },
    {
     "data": {
      "image/png": "[encoded data removed]",
      "text/plain": [
       "<Figure size 640x480 with 1 Axes>"
      ]
     },
     "metadata": {},
     "output_type": "display_data"
    }
   ],
   "source": [
    "#Using boxplot to find the relationship between tip vs gender\n",
    "\n",
    "sns.boxplot(x = \"gender\", y = \"tip\", data = Tip)\n",
    "plt.ylabel(\"Amount of Tip\")"
   ]
  },
  {
   "cell_type": "markdown",
   "id": "07b22b81",
   "metadata": {},
   "source": [
    "From the above chart, there is no much difference in the amount of tip given by both genders. Also, there was an extreme amount of tip given to the male food servers."
   ]
  },
  {
   "cell_type": "code",
   "execution_count": 37,
   "id": "f1c478bb",
   "metadata": {},
   "outputs": [
    {
     "data": {
      "text/plain": [
       "Text(0, 0.5, 'Amount of tip')"
      ]
     },
     "execution_count": 37,
     "metadata": {},
     "output_type": "execute_result"
    },
    {
     "data": {
      "image/png": "[encoded data removed]",
      "text/plain": [
       "<Figure size 640x480 with 1 Axes>"
      ]
     },
     "metadata": {},
     "output_type": "display_data"
    }
   ],
   "source": [
    "#Relationship between tip and smokers\n",
    "\n",
    "sns.boxplot(x = \"smoker\", y = \"tip\", data = Tip)\n",
    "plt.ylabel(\"Amount of tip\")"
   ]
  },
  {
   "cell_type": "markdown",
   "id": "00ecebbe",
   "metadata": {},
   "source": [
    "From the above plot, both smokers and non-smokers gave almost the same amount of tip"
   ]
  },
  {
   "cell_type": "code",
   "execution_count": 38,
   "id": "6217a547",
   "metadata": {},
   "outputs": [
    {
     "data": {
      "text/plain": [
       "Text(0, 0.5, 'Amount of tip')"
      ]
     },
     "execution_count": 38,
     "metadata": {},
     "output_type": "execute_result"
    },
    {
     "data": {
      "image/png": "[encoded data removed]",
      "text/plain": [
       "<Figure size 640x480 with 1 Axes>"
      ]
     },
     "metadata": {},
     "output_type": "display_data"
    }
   ],
   "source": [
    "#Relationship between tip and time\n",
    "\n",
    "sns.boxplot(x = \"time\", y = \"tip\", data = Tip)\n",
    "plt.ylabel(\"Amount of tip\")"
   ]
  },
  {
   "cell_type": "markdown",
   "id": "2548a3ac",
   "metadata": {},
   "source": [
    "Those who took lunch and dinner gave almost the same amount of tip. Though an extreme amount of tip was given by those who took dinner."
   ]
  },
  {
   "cell_type": "markdown",
   "id": "30575936",
   "metadata": {},
   "source": [
    "# Model building\n",
    "\n",
    "After getting some insight about the data, the data is now prepared for machine learning \n",
    "modelling"
   ]
  },
  {
   "cell_type": "code",
   "execution_count": 39,
   "id": "96407149",
   "metadata": {},
   "outputs": [],
   "source": [
    "#For model evaluation\n",
    "from sklearn import metrics\n",
    "\n",
    "#To divide the data into training and test set\n",
    "from sklearn.model_selection import train_test_split"
   ]
  },
  {
   "cell_type": "markdown",
   "id": "894d041a",
   "metadata": {},
   "source": [
    "# Data Preprocessing\n",
    "● Separating features and the label from the data"
   ]
  },
  {
   "cell_type": "code",
   "execution_count": 40,
   "id": "7979a062",
   "metadata": {},
   "outputs": [],
   "source": [
    "#To split the data into features(X) and targets(Y)\n",
    "\n",
    "#To drop the tip variable-label from the data and name it x\n",
    "x = Tip.drop([\"tip\"], axis = \"columns\")\n",
    "y = Tip[\"tip\"]"
   ]
  },
  {
   "cell_type": "code",
   "execution_count": 41,
   "id": "6f140e8a",
   "metadata": {},
   "outputs": [
    {
     "data": {
      "text/html": [
       "<div>\n",
       "<style scoped>\n",
       "    .dataframe tbody tr th:only-of-type {\n",
       "        vertical-align: middle;\n",
       "    }\n",
       "\n",
       "    .dataframe tbody tr th {\n",
       "        vertical-align: top;\n",
       "    }\n",
       "\n",
       "    .dataframe thead th {\n",
       "        text-align: right;\n",
       "    }\n",
       "</style>\n",
       "<table border=\"1\" class=\"dataframe\">\n",
       "  <thead>\n",
       "    <tr style=\"text-align: right;\">\n",
       "      <th></th>\n",
       "      <th>total_bill</th>\n",
       "      <th>gender</th>\n",
       "      <th>smoker</th>\n",
       "      <th>day</th>\n",
       "      <th>time</th>\n",
       "      <th>size</th>\n",
       "    </tr>\n",
       "  </thead>\n",
       "  <tbody>\n",
       "    <tr>\n",
       "      <th>0</th>\n",
       "      <td>2125.50</td>\n",
       "      <td>Male</td>\n",
       "      <td>No</td>\n",
       "      <td>Thur</td>\n",
       "      <td>Lunch</td>\n",
       "      <td>1</td>\n",
       "    </tr>\n",
       "    <tr>\n",
       "      <th>1</th>\n",
       "      <td>2727.18</td>\n",
       "      <td>Female</td>\n",
       "      <td>No</td>\n",
       "      <td>Sun</td>\n",
       "      <td>Dinner</td>\n",
       "      <td>5</td>\n",
       "    </tr>\n",
       "    <tr>\n",
       "      <th>2</th>\n",
       "      <td>1066.02</td>\n",
       "      <td>Female</td>\n",
       "      <td>Yes</td>\n",
       "      <td>Thur</td>\n",
       "      <td>Dinner</td>\n",
       "      <td>4</td>\n",
       "    </tr>\n",
       "    <tr>\n",
       "      <th>3</th>\n",
       "      <td>3493.45</td>\n",
       "      <td>Female</td>\n",
       "      <td>No</td>\n",
       "      <td>Sun</td>\n",
       "      <td>Dinner</td>\n",
       "      <td>1</td>\n",
       "    </tr>\n",
       "    <tr>\n",
       "      <th>4</th>\n",
       "      <td>3470.56</td>\n",
       "      <td>Male</td>\n",
       "      <td>Yes</td>\n",
       "      <td>Sun</td>\n",
       "      <td>Lunch</td>\n",
       "      <td>6</td>\n",
       "    </tr>\n",
       "  </tbody>\n",
       "</table>\n",
       "</div>"
      ],
      "text/plain": [
       "   total_bill  gender smoker   day    time  size\n",
       "0     2125.50    Male     No  Thur   Lunch     1\n",
       "1     2727.18  Female     No   Sun  Dinner     5\n",
       "2     1066.02  Female    Yes  Thur  Dinner     4\n",
       "3     3493.45  Female     No   Sun  Dinner     1\n",
       "4     3470.56    Male    Yes   Sun   Lunch     6"
      ]
     },
     "execution_count": 41,
     "metadata": {},
     "output_type": "execute_result"
    }
   ],
   "source": [
    "x.head(5)"
   ]
  },
  {
   "cell_type": "code",
   "execution_count": 42,
   "id": "5ec5c610",
   "metadata": {},
   "outputs": [
    {
     "data": {
      "text/plain": [
       "0    360.79\n",
       "1    259.42\n",
       "2    274.68\n",
       "3    337.90\n",
       "4    567.89\n",
       "Name: tip, dtype: float64"
      ]
     },
     "execution_count": 42,
     "metadata": {},
     "output_type": "execute_result"
    }
   ],
   "source": [
    "y.head(5)"
   ]
  },
  {
   "cell_type": "markdown",
   "id": "e488b9ae",
   "metadata": {},
   "source": [
    "# Since the label is continuous, this is a regression task.\n",
    "\n",
    "● One-hot encoding\n",
    "\n",
    "We need to create a one-hot encoding for all the categorical features in \n",
    "the data because some algorithms cannot work with categorical data directly. They require all \n",
    "input variables and output variables to be numeric. In this case, we will create a one-hot \n",
    "encoding for gender, smoker, day and time by using pd.get_dummies()"
   ]
  },
  {
   "cell_type": "code",
   "execution_count": 43,
   "id": "5c39f19d",
   "metadata": {},
   "outputs": [
    {
     "data": {
      "text/html": [
       "<div>\n",
       "<style scoped>\n",
       "    .dataframe tbody tr th:only-of-type {\n",
       "        vertical-align: middle;\n",
       "    }\n",
       "\n",
       "    .dataframe tbody tr th {\n",
       "        vertical-align: top;\n",
       "    }\n",
       "\n",
       "    .dataframe thead th {\n",
       "        text-align: right;\n",
       "    }\n",
       "</style>\n",
       "<table border=\"1\" class=\"dataframe\">\n",
       "  <thead>\n",
       "    <tr style=\"text-align: right;\">\n",
       "      <th></th>\n",
       "      <th>total_bill</th>\n",
       "      <th>size</th>\n",
       "      <th>gender_Female</th>\n",
       "      <th>gender_Male</th>\n",
       "      <th>smoker_No</th>\n",
       "      <th>smoker_Yes</th>\n",
       "      <th>day_Fri</th>\n",
       "      <th>day_Mon</th>\n",
       "      <th>day_Sat</th>\n",
       "      <th>day_Sun</th>\n",
       "      <th>day_Thur</th>\n",
       "      <th>day_Tues</th>\n",
       "      <th>day_Wed</th>\n",
       "      <th>time_Dinner</th>\n",
       "      <th>time_Lunch</th>\n",
       "    </tr>\n",
       "  </thead>\n",
       "  <tbody>\n",
       "    <tr>\n",
       "      <th>0</th>\n",
       "      <td>2125.50</td>\n",
       "      <td>1</td>\n",
       "      <td>0</td>\n",
       "      <td>1</td>\n",
       "      <td>1</td>\n",
       "      <td>0</td>\n",
       "      <td>0</td>\n",
       "      <td>0</td>\n",
       "      <td>0</td>\n",
       "      <td>0</td>\n",
       "      <td>1</td>\n",
       "      <td>0</td>\n",
       "      <td>0</td>\n",
       "      <td>0</td>\n",
       "      <td>1</td>\n",
       "    </tr>\n",
       "    <tr>\n",
       "      <th>1</th>\n",
       "      <td>2727.18</td>\n",
       "      <td>5</td>\n",
       "      <td>1</td>\n",
       "      <td>0</td>\n",
       "      <td>1</td>\n",
       "      <td>0</td>\n",
       "      <td>0</td>\n",
       "      <td>0</td>\n",
       "      <td>0</td>\n",
       "      <td>1</td>\n",
       "      <td>0</td>\n",
       "      <td>0</td>\n",
       "      <td>0</td>\n",
       "      <td>1</td>\n",
       "      <td>0</td>\n",
       "    </tr>\n",
       "    <tr>\n",
       "      <th>2</th>\n",
       "      <td>1066.02</td>\n",
       "      <td>4</td>\n",
       "      <td>1</td>\n",
       "      <td>0</td>\n",
       "      <td>0</td>\n",
       "      <td>1</td>\n",
       "      <td>0</td>\n",
       "      <td>0</td>\n",
       "      <td>0</td>\n",
       "      <td>0</td>\n",
       "      <td>1</td>\n",
       "      <td>0</td>\n",
       "      <td>0</td>\n",
       "      <td>1</td>\n",
       "      <td>0</td>\n",
       "    </tr>\n",
       "    <tr>\n",
       "      <th>3</th>\n",
       "      <td>3493.45</td>\n",
       "      <td>1</td>\n",
       "      <td>1</td>\n",
       "      <td>0</td>\n",
       "      <td>1</td>\n",
       "      <td>0</td>\n",
       "      <td>0</td>\n",
       "      <td>0</td>\n",
       "      <td>0</td>\n",
       "      <td>1</td>\n",
       "      <td>0</td>\n",
       "      <td>0</td>\n",
       "      <td>0</td>\n",
       "      <td>1</td>\n",
       "      <td>0</td>\n",
       "    </tr>\n",
       "    <tr>\n",
       "      <th>4</th>\n",
       "      <td>3470.56</td>\n",
       "      <td>6</td>\n",
       "      <td>0</td>\n",
       "      <td>1</td>\n",
       "      <td>0</td>\n",
       "      <td>1</td>\n",
       "      <td>0</td>\n",
       "      <td>0</td>\n",
       "      <td>0</td>\n",
       "      <td>1</td>\n",
       "      <td>0</td>\n",
       "      <td>0</td>\n",
       "      <td>0</td>\n",
       "      <td>0</td>\n",
       "      <td>1</td>\n",
       "    </tr>\n",
       "    <tr>\n",
       "      <th>...</th>\n",
       "      <td>...</td>\n",
       "      <td>...</td>\n",
       "      <td>...</td>\n",
       "      <td>...</td>\n",
       "      <td>...</td>\n",
       "      <td>...</td>\n",
       "      <td>...</td>\n",
       "      <td>...</td>\n",
       "      <td>...</td>\n",
       "      <td>...</td>\n",
       "      <td>...</td>\n",
       "      <td>...</td>\n",
       "      <td>...</td>\n",
       "      <td>...</td>\n",
       "      <td>...</td>\n",
       "    </tr>\n",
       "    <tr>\n",
       "      <th>739</th>\n",
       "      <td>3164.27</td>\n",
       "      <td>3</td>\n",
       "      <td>0</td>\n",
       "      <td>1</td>\n",
       "      <td>1</td>\n",
       "      <td>0</td>\n",
       "      <td>0</td>\n",
       "      <td>0</td>\n",
       "      <td>1</td>\n",
       "      <td>0</td>\n",
       "      <td>0</td>\n",
       "      <td>0</td>\n",
       "      <td>0</td>\n",
       "      <td>1</td>\n",
       "      <td>0</td>\n",
       "    </tr>\n",
       "    <tr>\n",
       "      <th>740</th>\n",
       "      <td>2962.62</td>\n",
       "      <td>2</td>\n",
       "      <td>1</td>\n",
       "      <td>0</td>\n",
       "      <td>0</td>\n",
       "      <td>1</td>\n",
       "      <td>0</td>\n",
       "      <td>0</td>\n",
       "      <td>1</td>\n",
       "      <td>0</td>\n",
       "      <td>0</td>\n",
       "      <td>0</td>\n",
       "      <td>0</td>\n",
       "      <td>1</td>\n",
       "      <td>0</td>\n",
       "    </tr>\n",
       "    <tr>\n",
       "      <th>741</th>\n",
       "      <td>2471.03</td>\n",
       "      <td>2</td>\n",
       "      <td>0</td>\n",
       "      <td>1</td>\n",
       "      <td>0</td>\n",
       "      <td>1</td>\n",
       "      <td>0</td>\n",
       "      <td>0</td>\n",
       "      <td>1</td>\n",
       "      <td>0</td>\n",
       "      <td>0</td>\n",
       "      <td>0</td>\n",
       "      <td>0</td>\n",
       "      <td>1</td>\n",
       "      <td>0</td>\n",
       "    </tr>\n",
       "    <tr>\n",
       "      <th>742</th>\n",
       "      <td>1942.38</td>\n",
       "      <td>2</td>\n",
       "      <td>0</td>\n",
       "      <td>1</td>\n",
       "      <td>1</td>\n",
       "      <td>0</td>\n",
       "      <td>0</td>\n",
       "      <td>0</td>\n",
       "      <td>1</td>\n",
       "      <td>0</td>\n",
       "      <td>0</td>\n",
       "      <td>0</td>\n",
       "      <td>0</td>\n",
       "      <td>1</td>\n",
       "      <td>0</td>\n",
       "    </tr>\n",
       "    <tr>\n",
       "      <th>743</th>\n",
       "      <td>2047.02</td>\n",
       "      <td>2</td>\n",
       "      <td>1</td>\n",
       "      <td>0</td>\n",
       "      <td>1</td>\n",
       "      <td>0</td>\n",
       "      <td>0</td>\n",
       "      <td>0</td>\n",
       "      <td>0</td>\n",
       "      <td>0</td>\n",
       "      <td>1</td>\n",
       "      <td>0</td>\n",
       "      <td>0</td>\n",
       "      <td>1</td>\n",
       "      <td>0</td>\n",
       "    </tr>\n",
       "  </tbody>\n",
       "</table>\n",
       "<p>744 rows × 15 columns</p>\n",
       "</div>"
      ],
      "text/plain": [
       "     total_bill  size  gender_Female  gender_Male  smoker_No  smoker_Yes  \\\n",
       "0       2125.50     1              0            1          1           0   \n",
       "1       2727.18     5              1            0          1           0   \n",
       "2       1066.02     4              1            0          0           1   \n",
       "3       3493.45     1              1            0          1           0   \n",
       "4       3470.56     6              0            1          0           1   \n",
       "..          ...   ...            ...          ...        ...         ...   \n",
       "739     3164.27     3              0            1          1           0   \n",
       "740     2962.62     2              1            0          0           1   \n",
       "741     2471.03     2              0            1          0           1   \n",
       "742     1942.38     2              0            1          1           0   \n",
       "743     2047.02     2              1            0          1           0   \n",
       "\n",
       "     day_Fri  day_Mon  day_Sat  day_Sun  day_Thur  day_Tues  day_Wed  \\\n",
       "0          0        0        0        0         1         0        0   \n",
       "1          0        0        0        1         0         0        0   \n",
       "2          0        0        0        0         1         0        0   \n",
       "3          0        0        0        1         0         0        0   \n",
       "4          0        0        0        1         0         0        0   \n",
       "..       ...      ...      ...      ...       ...       ...      ...   \n",
       "739        0        0        1        0         0         0        0   \n",
       "740        0        0        1        0         0         0        0   \n",
       "741        0        0        1        0         0         0        0   \n",
       "742        0        0        1        0         0         0        0   \n",
       "743        0        0        0        0         1         0        0   \n",
       "\n",
       "     time_Dinner  time_Lunch  \n",
       "0              0           1  \n",
       "1              1           0  \n",
       "2              1           0  \n",
       "3              1           0  \n",
       "4              0           1  \n",
       "..           ...         ...  \n",
       "739            1           0  \n",
       "740            1           0  \n",
       "741            1           0  \n",
       "742            1           0  \n",
       "743            1           0  \n",
       "\n",
       "[744 rows x 15 columns]"
      ]
     },
     "execution_count": 43,
     "metadata": {},
     "output_type": "execute_result"
    }
   ],
   "source": [
    "X = pd.get_dummies(x)\n",
    "X"
   ]
  },
  {
   "cell_type": "code",
   "execution_count": 44,
   "id": "ab0de178",
   "metadata": {},
   "outputs": [
    {
     "data": {
      "text/plain": [
       "(744, 15)"
      ]
     },
     "execution_count": 44,
     "metadata": {},
     "output_type": "execute_result"
    }
   ],
   "source": [
    "X.shape"
   ]
  },
  {
   "cell_type": "markdown",
   "id": "a23e5d22",
   "metadata": {},
   "source": [
    "# ● Split the data into training and test set\n",
    "\n",
    "The dataset splitted into (Features (X) and Label (Y)) into training and test data by using \n",
    "train_test_split() function from sklearn. The training set will be 80% while the test set will be \n",
    "20%. The random_state that is set to 1234."
   ]
  },
  {
   "cell_type": "code",
   "execution_count": 45,
   "id": "cb34b30b",
   "metadata": {},
   "outputs": [],
   "source": [
    "X_train, X_test, y_train, y_test = train_test_split(X, y, test_size = 0.2, random_state = 1234)"
   ]
  },
  {
   "cell_type": "markdown",
   "id": "e295fa5b",
   "metadata": {},
   "source": [
    "Since the data is splitted, we now have (X_train, y_train) and (X_test, y_test) "
   ]
  },
  {
   "cell_type": "markdown",
   "id": "145cefc9",
   "metadata": {},
   "source": [
    "# ● Training the Model\n",
    "The training data is used to build the model and then use test data to make prediction and \n",
    "evaluation respectively"
   ]
  },
  {
   "cell_type": "markdown",
   "id": "37d936e3",
   "metadata": {},
   "source": [
    "Linear Regression.\n",
    "Since we are to train a linear regression model with our training data. We need to import the Linear \n",
    "regression from the sklearn model."
   ]
  },
  {
   "cell_type": "code",
   "execution_count": 46,
   "id": "64577252",
   "metadata": {},
   "outputs": [],
   "source": [
    "#To fit linear Regression to our training set\n",
    "\n",
    "from sklearn.linear_model import LinearRegression"
   ]
  },
  {
   "cell_type": "code",
   "execution_count": 47,
   "id": "153ecf30",
   "metadata": {},
   "outputs": [
    {
     "data": {
      "text/plain": [
       "LinearRegression(normalize=False)"
      ]
     },
     "execution_count": 47,
     "metadata": {},
     "output_type": "execute_result"
    }
   ],
   "source": [
    "linearmodel = LinearRegression()\n",
    "linearmodel.fit(X_train, y_train)\n",
    "LinearRegression(copy_X=True, fit_intercept=True, n_jobs=None, normalize=False)"
   ]
  },
  {
   "cell_type": "markdown",
   "id": "04fb84d9",
   "metadata": {},
   "source": [
    "Since the linearmodel.fit has trained the Linear regression model.\n",
    "The model is now ready to make predictions for the unknown label by using only the features from the test data (X_test)"
   ]
  },
  {
   "cell_type": "code",
   "execution_count": 48,
   "id": "e6631ce0",
   "metadata": {},
   "outputs": [
    {
     "data": {
      "text/plain": [
       "array([367.43848391, 284.17027121, 274.19116018, 346.46402511,\n",
       "       298.85746332, 294.14453677, 257.66130848, 283.23527194,\n",
       "       311.53154902, 266.76688909, 287.50691095, 268.12328087,\n",
       "       319.29057874, 379.389987  , 298.34394797, 344.98937081,\n",
       "       375.77087624, 345.96103113, 257.77234067, 383.58762963,\n",
       "       301.02748847, 296.47261286, 377.37706494, 380.998273  ,\n",
       "       323.44463928, 325.96091299, 296.45549431, 295.80850357,\n",
       "       376.11352327, 394.93799767, 314.34660701, 252.39149885,\n",
       "       371.36736855, 329.21139694, 309.21545846, 335.19229996,\n",
       "       353.93437564, 292.97091347, 329.96148959, 302.46622122,\n",
       "       248.40367105, 328.12726277, 343.86442963, 343.74524418,\n",
       "       389.50836497, 321.67127403, 344.84535554, 358.10847206,\n",
       "       328.46831958, 391.63641292, 307.10446628, 359.07045622,\n",
       "       362.31824303, 386.93674845, 371.71312874, 326.74602401,\n",
       "       327.49791297, 345.53085245, 323.75874404, 351.67709068,\n",
       "       319.64524402, 313.14934587, 348.15326222, 360.45811712,\n",
       "       306.91179633, 319.03745527, 328.04033607, 352.84161322,\n",
       "       266.22156106, 477.16606715, 301.82766308, 303.90383646,\n",
       "       428.42015497, 359.69267108, 314.79886804, 278.82273827,\n",
       "       365.89102395, 370.66552738, 361.86935996, 361.77603556,\n",
       "       308.23605818, 324.76075509, 319.54290807, 297.48867913,\n",
       "       288.95904974, 318.41254282, 272.37056957, 336.74732874,\n",
       "       301.46625143, 320.17217658, 342.05461416, 257.83682254,\n",
       "       327.32758401, 346.17248349, 299.41684507, 329.94144723,\n",
       "       357.78937594, 318.81996671, 354.70399229, 348.94553361,\n",
       "       306.10788825, 322.62891935, 273.7982918 , 309.45524806,\n",
       "       331.57805986, 305.95972438, 353.91856112, 326.29069159,\n",
       "       286.90692453, 340.83773251, 233.98704784, 285.59478073,\n",
       "       316.56499468, 285.77371173, 328.88911506, 331.82533493,\n",
       "       313.90738322, 357.35779187, 305.36187312, 362.77983922,\n",
       "       293.6591636 , 329.95139692, 375.65561297, 313.8301789 ,\n",
       "       396.44799953, 290.74699689, 307.71970097, 336.9735287 ,\n",
       "       368.19348526, 304.04044517, 288.61940454, 356.69929883,\n",
       "       262.66877964, 387.10014595, 266.24290918, 293.40931381,\n",
       "       418.7515112 , 347.9757751 , 324.4060898 , 341.43948104,\n",
       "       334.13433456, 304.92382187, 318.51226614, 368.23558887,\n",
       "       274.14648354, 318.37551597, 393.07672761, 329.21573682,\n",
       "       303.08991254])"
      ]
     },
     "execution_count": 48,
     "metadata": {},
     "output_type": "execute_result"
    }
   ],
   "source": [
    "linearmodel.predict(X_test)"
   ]
  },
  {
   "cell_type": "markdown",
   "id": "2fdf6045",
   "metadata": {},
   "source": [
    "We can save the above prediction result with linearmodel_prediction. The above result is what the model predicted."
   ]
  },
  {
   "cell_type": "code",
   "execution_count": 49,
   "id": "ae5c7b0d",
   "metadata": {},
   "outputs": [],
   "source": [
    "linearmodel_prediction = linearmodel.predict(X_test)"
   ]
  },
  {
   "cell_type": "markdown",
   "id": "21e9eb15",
   "metadata": {},
   "source": [
    "Since the prediction is continuous, we can only measure how far the prediction is from the \n",
    "actual values. Let's check the error for each prediction. The error prediction can be calculated by subtracting the predicted frrom the actual"
   ]
  },
  {
   "cell_type": "code",
   "execution_count": 50,
   "id": "cf7af5e0",
   "metadata": {},
   "outputs": [
    {
     "data": {
      "text/plain": [
       "535     24.961516\n",
       "718   -127.210271\n",
       "277    117.118840\n",
       "391     29.585975\n",
       "586    -80.857463\n",
       "          ...    \n",
       "28     251.233516\n",
       "146   -113.455516\n",
       "616    159.553272\n",
       "234     27.214263\n",
       "359     33.720087\n",
       "Name: tip, Length: 149, dtype: float64"
      ]
     },
     "execution_count": 50,
     "metadata": {},
     "output_type": "execute_result"
    }
   ],
   "source": [
    "y_test - linearmodel_prediction"
   ]
  },
  {
   "cell_type": "markdown",
   "id": "9cca56c8",
   "metadata": {},
   "source": [
    "From the above results, it is shown that the positive ones show that the prediction is higher than the actual values while the negative \n",
    "ones are below the actual values."
   ]
  },
  {
   "cell_type": "markdown",
   "id": "1e6ec68c",
   "metadata": {},
   "source": [
    "We want to measure this error by using the Root Mean Squared Error (RMSE)."
   ]
  },
  {
   "cell_type": "code",
   "execution_count": 51,
   "id": "c2b87abc",
   "metadata": {},
   "outputs": [],
   "source": [
    "#The MSE between the actual and the predicted\n",
    "MSE = metrics.mean_squared_error(y_test, linearmodel_prediction)"
   ]
  },
  {
   "cell_type": "code",
   "execution_count": 52,
   "id": "5bad6594",
   "metadata": {},
   "outputs": [
    {
     "data": {
      "text/plain": [
       "20201.41527694898"
      ]
     },
     "execution_count": 52,
     "metadata": {},
     "output_type": "execute_result"
    }
   ],
   "source": [
    "MSE"
   ]
  },
  {
   "cell_type": "code",
   "execution_count": 53,
   "id": "4aebf36f",
   "metadata": {},
   "outputs": [
    {
     "data": {
      "text/plain": [
       "142.1316828752442"
      ]
     },
     "execution_count": 53,
     "metadata": {},
     "output_type": "execute_result"
    }
   ],
   "source": [
    "#To get the root MSE\n",
    "np.sqrt(MSE)"
   ]
  },
  {
   "cell_type": "markdown",
   "id": "3ac89f9d",
   "metadata": {},
   "source": [
    "Therefore, the RMSE for the linear regression is 142.1316828752442."
   ]
  },
  {
   "cell_type": "markdown",
   "id": "203512b3",
   "metadata": {},
   "source": [
    "We have to train with other models too to check for the model"
   ]
  },
  {
   "cell_type": "markdown",
   "id": "d4f89c73",
   "metadata": {},
   "source": [
    "# TO Use The Random Forest Regressor"
   ]
  },
  {
   "cell_type": "code",
   "execution_count": 54,
   "id": "91342dd4",
   "metadata": {},
   "outputs": [],
   "source": [
    "#First, import the model from the sklearn module\n",
    "\n",
    "from sklearn.ensemble import RandomForestRegressor\n",
    "randomforestmodel = RandomForestRegressor()"
   ]
  },
  {
   "cell_type": "code",
   "execution_count": 55,
   "id": "7c9f0a70",
   "metadata": {},
   "outputs": [
    {
     "data": {
      "text/plain": [
       "RandomForestRegressor()"
      ]
     },
     "execution_count": 55,
     "metadata": {},
     "output_type": "execute_result"
    }
   ],
   "source": [
    "randomforestmodel.fit(X_train, y_train)"
   ]
  },
  {
   "cell_type": "code",
   "execution_count": 57,
   "id": "f5b22ae9",
   "metadata": {},
   "outputs": [
    {
     "data": {
      "text/plain": [
       "RandomForestRegressor(criterion='mse')"
      ]
     },
     "execution_count": 57,
     "metadata": {},
     "output_type": "execute_result"
    }
   ],
   "source": [
    "RandomForestRegressor(bootstrap=True, ccp_alpha=0.0, criterion='mse',max_depth=None,max_features='auto',max_leaf_nodes=None,max_samples=None,min_impurity_decrease=0.0,min_samples_leaf=1,min_samples_split=2,min_weight_fraction_leaf=0.0,n_jobs=None,oob_score=False,random_state=None,verbose=0,warm_start=False)"
   ]
  },
  {
   "cell_type": "markdown",
   "id": "f62004c7",
   "metadata": {},
   "source": [
    "Random Forest model has been used to train the data. Now we can make predictions"
   ]
  },
  {
   "cell_type": "code",
   "execution_count": 58,
   "id": "a542f2dc",
   "metadata": {},
   "outputs": [],
   "source": [
    "randomforestmodel_prediction = randomforestmodel.predict(X_test)"
   ]
  },
  {
   "cell_type": "code",
   "execution_count": 59,
   "id": "56ecb757",
   "metadata": {},
   "outputs": [
    {
     "data": {
      "text/plain": [
       "array([308.2302, 417.5463, 306.8132, 302.0172, 235.004 , 273.3611,\n",
       "       296.9487, 322.4547, 366.2509, 335.1423, 270.8214, 296.3056,\n",
       "       327.3597, 332.8533, 324.9399, 315.9256, 441.232 , 395.2776,\n",
       "       300.7855, 494.0643, 202.3803, 382.59  , 386.7211, 384.3994,\n",
       "       237.511 , 315.3806, 355.2092, 295.7061, 391.7787, 380.2901,\n",
       "       303.0527, 299.2595, 401.338 , 252.4985, 255.2562, 344.5163,\n",
       "       362.316 , 287.106 , 296.5672, 278.5059, 357.6726, 284.8715,\n",
       "       365.7931, 313.375 , 361.9018, 294.0929, 363.2534, 351.2961,\n",
       "       264.2269, 388.1926, 299.4884, 352.7349, 366.2727, 469.5829,\n",
       "       249.0105, 316.9938, 417.2411, 316.0782, 240.8137, 316.5578,\n",
       "       351.5795, 413.1645, 420.7618, 335.6437, 296.589 , 314.3233,\n",
       "       294.0493, 381.6199, 356.9968, 780.4618, 286.125 , 300.3168,\n",
       "       952.4202, 430.8879, 383.8653, 338.227 , 332.8533, 393.1957,\n",
       "       355.9286, 422.4731, 234.6661, 340.7776, 318.8468, 154.1914,\n",
       "       383.7127, 300.4367, 320.1112, 324.7437, 284.3374, 339.6876,\n",
       "       348.0915, 313.1897, 419.7699, 312.3286, 255.0273, 242.9174,\n",
       "       319.7842, 222.7088, 364.4415, 253.3596, 208.5933, 445.7991,\n",
       "       308.5899, 306.2028, 273.0341, 289.5803, 272.1403, 373.6847,\n",
       "       299.7282, 251.7355, 423.8574, 265.2188, 296.7416, 240.0071,\n",
       "       323.8608, 277.6884, 233.3472, 406.6354, 311.5874, 286.452 ,\n",
       "       330.8913, 193.1371, 343.568 , 233.9794, 415.3336, 328.8312,\n",
       "       217.3787, 320.9832, 351.5032, 399.9537, 385.4785, 332.1121,\n",
       "       354.3372, 400.5532, 324.0897, 199.8079, 381.173 , 400.248 ,\n",
       "       387.4187, 364.3216, 372.6165, 317.9312, 273.4919, 257.5343,\n",
       "       390.7977, 302.8892, 434.3868, 301.9191, 296.4909])"
      ]
     },
     "execution_count": 59,
     "metadata": {},
     "output_type": "execute_result"
    }
   ],
   "source": [
    "randomforestmodel_prediction"
   ]
  },
  {
   "cell_type": "code",
   "execution_count": 60,
   "id": "1d61c654",
   "metadata": {},
   "outputs": [
    {
     "data": {
      "text/plain": [
       "25454.832077124032"
      ]
     },
     "execution_count": 60,
     "metadata": {},
     "output_type": "execute_result"
    }
   ],
   "source": [
    "#To get the error between the actual and the predicted\n",
    "MSE = metrics.mean_squared_error(y_test, randomforestmodel_prediction)\n",
    "MSE"
   ]
  },
  {
   "cell_type": "code",
   "execution_count": 61,
   "id": "c9e4e2a9",
   "metadata": {},
   "outputs": [
    {
     "data": {
      "text/plain": [
       "159.54570529200726"
      ]
     },
     "execution_count": 61,
     "metadata": {},
     "output_type": "execute_result"
    }
   ],
   "source": [
    "#To get the root mean squared error\n",
    "np.sqrt(MSE)"
   ]
  },
  {
   "cell_type": "markdown",
   "id": "bb913162",
   "metadata": {},
   "source": [
    "Therefore, the RMSE for the Random Forest Model is 159.54570529200726"
   ]
  },
  {
   "cell_type": "code",
   "execution_count": 62,
   "id": "783e7605",
   "metadata": {},
   "outputs": [
    {
     "data": {
      "text/plain": [
       "535     84.1698\n",
       "718   -260.5863\n",
       "277     84.4968\n",
       "391     74.0328\n",
       "586    -17.0040\n",
       "         ...   \n",
       "28     134.5823\n",
       "146    -97.9692\n",
       "616    118.2432\n",
       "234     54.5109\n",
       "359     40.3191\n",
       "Name: tip, Length: 149, dtype: float64"
      ]
     },
     "execution_count": 62,
     "metadata": {},
     "output_type": "execute_result"
    }
   ],
   "source": [
    "#To check the difference between the actual and predicted tip\n",
    "y_test - randomforestmodel_prediction"
   ]
  },
  {
   "cell_type": "markdown",
   "id": "a0df9bf2",
   "metadata": {},
   "source": [
    "# To use the SVM (Support Vector Machine) model"
   ]
  },
  {
   "cell_type": "code",
   "execution_count": 66,
   "id": "b0e98ce5",
   "metadata": {},
   "outputs": [],
   "source": [
    "from sklearn.svm import SVR\n",
    "SVMmodel = SVR()"
   ]
  },
  {
   "cell_type": "code",
   "execution_count": 67,
   "id": "f95b07bd",
   "metadata": {},
   "outputs": [
    {
     "data": {
      "text/plain": [
       "SVR()"
      ]
     },
     "execution_count": 67,
     "metadata": {},
     "output_type": "execute_result"
    }
   ],
   "source": [
    "SVMmodel.fit(X_train, y_train)"
   ]
  },
  {
   "cell_type": "code",
   "execution_count": 70,
   "id": "ee11e8a1",
   "metadata": {},
   "outputs": [
    {
     "data": {
      "text/plain": [
       "SVR()"
      ]
     },
     "execution_count": 70,
     "metadata": {},
     "output_type": "execute_result"
    }
   ],
   "source": [
    "SVR(C = 1.0, cache_size=200, coef0=0.0, degree=3, epsilon=0.1, gamma='scale', kernel='rbf', max_iter=-1, shrinking=True, tol=0.001, verbose=False)"
   ]
  },
  {
   "cell_type": "code",
   "execution_count": 71,
   "id": "3294f332",
   "metadata": {},
   "outputs": [
    {
     "data": {
      "text/plain": [
       "array([319.89992785, 294.67471334, 297.16026731, 310.39732971,\n",
       "       299.60042242, 298.18381878, 294.29571462, 302.23709135,\n",
       "       310.7734628 , 294.53482695, 298.71490723, 294.28280359,\n",
       "       306.93464506, 318.79135846, 294.07663479, 325.73275876,\n",
       "       322.65525412, 330.5888563 , 294.14305362, 333.94195701,\n",
       "       295.9122879 , 294.16461376, 329.60224667, 324.91119978,\n",
       "       315.82766179, 318.38512685, 306.31812774, 302.15646462,\n",
       "       331.48012602, 329.91506122, 303.17748755, 294.40661468,\n",
       "       328.4058344 , 309.33542712, 320.83784777, 320.46481845,\n",
       "       313.18843957, 298.05277464, 309.76664884, 317.15380977,\n",
       "       294.43932798, 309.53115389, 311.46924567, 318.38515392,\n",
       "       334.65232821, 301.0009409 , 308.30628756, 322.37020981,\n",
       "       306.02234582, 332.32919759, 316.93711851, 312.78788331,\n",
       "       325.22073423, 328.75236255, 332.34584139, 315.74804251,\n",
       "       301.15288148, 331.00646721, 303.27870068, 312.04779527,\n",
       "       309.19865696, 304.75416513, 315.05017761, 319.80517951,\n",
       "       316.0661414 , 321.07870342, 309.17919204, 311.42939532,\n",
       "       295.64624149, 330.91876629, 308.71228627, 301.80550316,\n",
       "       330.73437922, 314.89036202, 305.89357187, 312.36758443,\n",
       "       319.84310656, 321.09723311, 322.76152221, 328.55355729,\n",
       "       302.44820059, 314.83035673, 306.52274124, 302.90965644,\n",
       "       295.62378065, 301.10714689, 302.09219017, 304.82542599,\n",
       "       304.32995843, 312.42760159, 321.57477773, 297.17074493,\n",
       "       313.22849125, 309.29632472, 297.78520723, 303.75631606,\n",
       "       332.54879514, 299.94835691, 330.58883673, 317.01599847,\n",
       "       296.2428868 , 298.98504146, 295.64636041, 311.40945213,\n",
       "       321.93839701, 306.74697041, 319.84309011, 313.44888365,\n",
       "       298.1120851 , 309.53116418, 294.10878565, 296.82378821,\n",
       "       308.55728997, 309.14010338, 322.22679696, 304.20733481,\n",
       "       301.49184962, 320.01340086, 309.00373058, 318.57887926,\n",
       "       300.16151853, 321.84781227, 332.65066843, 298.29251402,\n",
       "       333.67285708, 306.1329984 , 297.98220241, 306.56003968,\n",
       "       322.93791215, 297.00502142, 294.54987736, 327.91095979,\n",
       "       295.7311784 , 327.91096375, 294.08668517, 295.92865872,\n",
       "       334.75290713, 316.87794788, 312.46761682, 308.0178056 ,\n",
       "       308.03695894, 315.78784475, 302.67772297, 332.42814162,\n",
       "       294.66968877, 327.22450515, 329.342637  , 308.65415743,\n",
       "       305.05803953])"
      ]
     },
     "execution_count": 71,
     "metadata": {},
     "output_type": "execute_result"
    }
   ],
   "source": [
    "SVMmodel_prediction = SVMmodel.predict(X_test)\n",
    "SVMmodel_prediction"
   ]
  },
  {
   "cell_type": "code",
   "execution_count": 72,
   "id": "6f01f394",
   "metadata": {},
   "outputs": [
    {
     "data": {
      "text/plain": [
       "19853.340298954365"
      ]
     },
     "execution_count": 72,
     "metadata": {},
     "output_type": "execute_result"
    }
   ],
   "source": [
    "MSE = metrics.mean_squared_error(y_test, SVMmodel_prediction)\n",
    "MSE"
   ]
  },
  {
   "cell_type": "code",
   "execution_count": 73,
   "id": "50b875a3",
   "metadata": {},
   "outputs": [
    {
     "data": {
      "text/plain": [
       "140.90188181480886"
      ]
     },
     "execution_count": 73,
     "metadata": {},
     "output_type": "execute_result"
    }
   ],
   "source": [
    "#To get the root mean square\n",
    "np.sqrt(MSE)"
   ]
  },
  {
   "cell_type": "markdown",
   "id": "b2f90db1",
   "metadata": {},
   "source": [
    "Therefore, the RMSE for the Support Vector Machine (SVM) is 140.90188181480886"
   ]
  },
  {
   "cell_type": "markdown",
   "id": "d9cbb6cd",
   "metadata": {},
   "source": [
    "# To use the Decision Tree Model"
   ]
  },
  {
   "cell_type": "code",
   "execution_count": 74,
   "id": "4d1c8301",
   "metadata": {},
   "outputs": [
    {
     "data": {
      "text/plain": [
       "DecisionTreeRegressor()"
      ]
     },
     "execution_count": 74,
     "metadata": {},
     "output_type": "execute_result"
    }
   ],
   "source": [
    "#Import the decisin tree model\n",
    "from sklearn.tree import DecisionTreeRegressor\n",
    "decisiontree = DecisionTreeRegressor()\n",
    "decisiontree.fit(X_train, y_train)"
   ]
  },
  {
   "cell_type": "code",
   "execution_count": 78,
   "id": "4ce13947",
   "metadata": {},
   "outputs": [
    {
     "data": {
      "text/plain": [
       "DecisionTreeRegressor(criterion='mse')"
      ]
     },
     "execution_count": 78,
     "metadata": {},
     "output_type": "execute_result"
    }
   ],
   "source": [
    "DecisionTreeRegressor(ccp_alpha=0.0, criterion='mse', max_depth=None,max_features=None, max_leaf_nodes=None, min_impurity_decrease=0.0, min_samples_leaf=1,min_samples_split=2,min_weight_fraction_leaf=0.0, random_state=None, splitter='best')"
   ]
  },
  {
   "cell_type": "code",
   "execution_count": 81,
   "id": "5548ecee",
   "metadata": {},
   "outputs": [
    {
     "data": {
      "text/plain": [
       "array([ 218.  ,  737.93,  456.71,  566.8 ,  299.75,   18.53,  224.54,\n",
       "        214.73,  430.55,  301.93,  316.1 ,  215.82,  276.86,  160.23,\n",
       "        156.96,  261.6 ,  513.39,  352.07,  510.12,  545.  ,  170.04,\n",
       "        156.96,  554.81,  362.97,  294.3 ,  312.83,  223.45,  352.07,\n",
       "        567.89,  352.07,  327.  ,  224.54,  327.  ,  566.8 ,  219.09,\n",
       "        499.22,  390.22,  272.5 ,  556.99,  381.5 ,  336.81,  566.8 ,\n",
       "        292.12,  158.05,  327.  ,  333.54,  279.04,  221.27,  334.63,\n",
       "        294.3 ,  158.05,  299.75,  409.84,  514.48,   63.22,  297.57,\n",
       "        427.28,  545.  ,  327.  ,  303.02,  436.  ,  490.5 ,  381.5 ,\n",
       "        231.08,  213.64,  276.86,  556.99,  346.62,  492.68,  733.57,\n",
       "        306.29,  262.69, 1090.  ,  381.5 ,  334.63,  456.71,  218.  ,\n",
       "        385.86,  307.38,  327.  ,    4.36,  456.71,  602.77,    4.36,\n",
       "        398.94,  333.54,  223.45,  404.39,  329.18,  360.79,  495.95,\n",
       "        421.83,  602.77,  381.5 ,  191.84,  267.05,  337.9 ,  218.  ,\n",
       "        401.12,  292.12,  199.47,  768.45,  214.73,   92.65,  208.19,\n",
       "        602.77,  149.33,  367.33,  676.89,  566.8 ,  510.12,  160.23,\n",
       "        218.  ,  141.7 ,  514.48,  229.99,    4.36,  214.73,   11.99,\n",
       "        237.62,  413.11,  106.82,  337.9 ,  676.89,  197.29,  452.35,\n",
       "         18.53,  602.77,  307.38,  768.45,  487.23,  349.89,  385.86,\n",
       "        239.8 ,  156.96,  251.79,  327.  ,  395.67,  419.65,  331.36,\n",
       "        444.72,  292.12,  239.8 ,  127.53,  487.23,  279.04,  645.28,\n",
       "        245.25,  269.23])"
      ]
     },
     "execution_count": 81,
     "metadata": {},
     "output_type": "execute_result"
    }
   ],
   "source": [
    "decisiontree_prediction = decisiontree.predict(X_test)\n",
    "decisiontree_prediction"
   ]
  },
  {
   "cell_type": "code",
   "execution_count": 82,
   "id": "7566d5de",
   "metadata": {},
   "outputs": [
    {
     "data": {
      "text/plain": [
       "49969.76365369128"
      ]
     },
     "execution_count": 82,
     "metadata": {},
     "output_type": "execute_result"
    }
   ],
   "source": [
    "MSE = metrics.mean_squared_error(y_test, decisiontree_prediction)\n",
    "MSE"
   ]
  },
  {
   "cell_type": "code",
   "execution_count": 83,
   "id": "2465ec30",
   "metadata": {},
   "outputs": [
    {
     "data": {
      "text/plain": [
       "223.53917699967334"
      ]
     },
     "execution_count": 83,
     "metadata": {},
     "output_type": "execute_result"
    }
   ],
   "source": [
    "np.sqrt(MSE)"
   ]
  },
  {
   "cell_type": "code",
   "execution_count": 84,
   "id": "0a8ba11f",
   "metadata": {},
   "outputs": [
    {
     "data": {
      "text/plain": [
       "535    174.40\n",
       "718   -580.97\n",
       "277    -65.40\n",
       "391   -190.75\n",
       "586    -81.75\n",
       "        ...  \n",
       "28      38.15\n",
       "146    -74.12\n",
       "616    -92.65\n",
       "234    111.18\n",
       "359     67.58\n",
       "Name: tip, Length: 149, dtype: float64"
      ]
     },
     "execution_count": 84,
     "metadata": {},
     "output_type": "execute_result"
    }
   ],
   "source": [
    "#To get the differece between the actual tip and predicted tip\n",
    "y_test - decisiontree_prediction"
   ]
  },
  {
   "cell_type": "markdown",
   "id": "fbcacd74",
   "metadata": {},
   "source": [
    "Therefore, the RMSE for the Decision Tree is 215.84571333501313."
   ]
  },
  {
   "cell_type": "markdown",
   "id": "38ea836c",
   "metadata": {},
   "source": [
    "Having trained all the four (4) models, we can see that the best model that can accurately \n",
    "predict the amount of tips that would be given for a given party in the restaurant is the model \n",
    "with the lowest RMSE and that is Support Vector Machine (SVM)."
   ]
  },
  {
   "cell_type": "markdown",
   "id": "b9aab36d",
   "metadata": {},
   "source": [
    "# To get the amount of Tip using the next three (3) models: K-Nearset neighbor, Ridge Regression and Gradient Boost"
   ]
  },
  {
   "cell_type": "code",
   "execution_count": 85,
   "id": "9120446d",
   "metadata": {},
   "outputs": [],
   "source": [
    "#Using the K-Nearest Neighbor\n",
    "\n",
    "from sklearn.neighbors import KNeighborsRegressor\n",
    "KNeighbor = KNeighborsRegressor()"
   ]
  },
  {
   "cell_type": "code",
   "execution_count": 86,
   "id": "2d8ad315",
   "metadata": {},
   "outputs": [
    {
     "data": {
      "text/plain": [
       "KNeighborsRegressor()"
      ]
     },
     "execution_count": 86,
     "metadata": {},
     "output_type": "execute_result"
    }
   ],
   "source": [
    "KNeighbor.fit(X_train, y_train)"
   ]
  },
  {
   "cell_type": "code",
   "execution_count": 87,
   "id": "3f6f63b3",
   "metadata": {},
   "outputs": [
    {
     "data": {
      "text/plain": [
       "array([233.696, 301.058, 213.858, 273.59 , 214.076, 316.754, 207.1  ,\n",
       "       279.694, 374.306, 338.99 , 188.352, 207.1  , 251.572, 314.792,\n",
       "       392.618, 412.456, 264.434, 346.838, 429.024, 349.672, 271.192,\n",
       "       349.018, 336.374, 404.39 , 330.052, 476.33 , 323.73 , 279.694,\n",
       "       424.882, 365.368, 246.776, 282.528, 512.736, 272.282, 377.576,\n",
       "       238.056, 361.662, 342.696, 295.39 , 228.682, 282.528, 282.092,\n",
       "       412.02 , 476.33 , 466.956, 298.006, 391.528, 311.958, 238.056,\n",
       "       308.252, 340.734, 419.868, 301.276, 494.86 , 308.252, 363.624,\n",
       "       308.906, 268.14 , 246.776, 347.274, 306.726, 383.026, 303.238,\n",
       "       243.724, 321.986, 413.982, 306.726, 418.56 , 289.068, 708.282,\n",
       "       295.608, 368.856, 708.282, 355.34 , 287.978, 369.728, 243.724,\n",
       "       413.982, 304.546, 466.956, 303.02 , 378.448, 323.73 , 215.82 ,\n",
       "       289.068, 308.906, 312.394, 381.718, 270.756, 369.728, 330.924,\n",
       "       213.858, 379.102, 272.282, 269.666, 289.94 , 251.354, 227.81 ,\n",
       "       371.908, 313.92 , 290.158, 287.106, 332.886, 418.56 , 446.682,\n",
       "       323.73 , 234.786, 403.736, 342.696, 282.092, 407.224, 248.52 ,\n",
       "       317.408, 318.28 , 331.142, 275.116, 334.848, 306.726, 306.726,\n",
       "       338.118, 254.406, 368.638, 313.92 , 314.356, 456.71 , 314.574,\n",
       "       313.702, 323.73 , 360.136, 231.08 , 405.916, 299.75 , 332.886,\n",
       "       299.75 , 376.486, 271.192, 451.478, 340.734, 369.728, 348.364,\n",
       "       361.444, 363.624, 274.244, 230.862, 421.394, 265.306, 304.11 ,\n",
       "       295.608, 272.5  ])"
      ]
     },
     "execution_count": 87,
     "metadata": {},
     "output_type": "execute_result"
    }
   ],
   "source": [
    "KNeighbor_prediction = KNeighbor.predict(X_test)\n",
    "KNeighbor_prediction"
   ]
  },
  {
   "cell_type": "code",
   "execution_count": 89,
   "id": "e2b43b2e",
   "metadata": {},
   "outputs": [
    {
     "data": {
      "text/plain": [
       "25952.83343538255"
      ]
     },
     "execution_count": 89,
     "metadata": {},
     "output_type": "execute_result"
    }
   ],
   "source": [
    "#To get the MSE\n",
    "MSE = metrics.mean_squared_error(y_test, KNeighbor_prediction)\n",
    "MSE"
   ]
  },
  {
   "cell_type": "code",
   "execution_count": 90,
   "id": "232b8b97",
   "metadata": {},
   "outputs": [
    {
     "data": {
      "text/plain": [
       "161.09883126634577"
      ]
     },
     "execution_count": 90,
     "metadata": {},
     "output_type": "execute_result"
    }
   ],
   "source": [
    "#To get the root MSE\n",
    "np.sqrt(MSE)"
   ]
  },
  {
   "cell_type": "markdown",
   "id": "cc75a041",
   "metadata": {},
   "source": [
    "Therefore, the RMSE for the K Nearest Neighbors is 161.09883126634577"
   ]
  },
  {
   "cell_type": "markdown",
   "id": "ff657d42",
   "metadata": {},
   "source": [
    "# Using the Ridge Regression model"
   ]
  },
  {
   "cell_type": "code",
   "execution_count": 91,
   "id": "5130d4e9",
   "metadata": {},
   "outputs": [],
   "source": [
    "from sklearn.linear_model import Ridge\n",
    "\n",
    "ridge = Ridge()"
   ]
  },
  {
   "cell_type": "code",
   "execution_count": 92,
   "id": "4303c9cc",
   "metadata": {},
   "outputs": [
    {
     "data": {
      "text/plain": [
       "Ridge()"
      ]
     },
     "execution_count": 92,
     "metadata": {},
     "output_type": "execute_result"
    }
   ],
   "source": [
    "ridge.fit(X_train, y_train)"
   ]
  },
  {
   "cell_type": "code",
   "execution_count": 93,
   "id": "0d8aa9de",
   "metadata": {},
   "outputs": [
    {
     "data": {
      "text/plain": [
       "array([367.33093895, 284.05418045, 274.24738937, 346.39819805,\n",
       "       298.79167637, 294.04753846, 257.68435094, 283.57802791,\n",
       "       311.48306969, 266.66524353, 287.63831146, 268.14610647,\n",
       "       319.21518539, 379.28100175, 298.21210846, 345.338163  ,\n",
       "       375.67625784, 346.34810061, 257.73007077, 383.7700089 ,\n",
       "       300.92227513, 296.34016171, 377.3081668 , 380.9054892 ,\n",
       "       323.61872516, 325.93202368, 296.40954239, 295.73772848,\n",
       "       376.04752164, 394.85010615, 314.24110693, 252.30219128,\n",
       "       371.40412942, 329.25843951, 309.58019196, 335.35098701,\n",
       "       353.82209127, 292.88802915, 330.2737787 , 302.8313635 ,\n",
       "       248.45358222, 328.00708204, 343.73413502, 343.69914095,\n",
       "       389.87004919, 321.5554851 , 344.68528742, 358.05959125,\n",
       "       328.39503615, 391.68301978, 307.4606404 , 358.95215591,\n",
       "       362.37690478, 386.88512569, 371.62388192, 326.72014261,\n",
       "       327.40313029, 345.53224179, 323.66150846, 351.56401409,\n",
       "       319.60905203, 313.09409647, 348.06458814, 360.35316334,\n",
       "       306.98062026, 319.02954649, 328.08419015, 352.73894756,\n",
       "       266.11870129, 477.0913974 , 302.18087414, 303.8370431 ,\n",
       "       428.34410266, 359.59240987, 314.69237895, 279.21474141,\n",
       "       365.80523516, 370.5145211 , 361.80502147, 361.74407893,\n",
       "       308.39194694, 324.72362607, 319.67269242, 297.65643299,\n",
       "       288.86693892, 318.31343093, 272.53570522, 336.6290124 ,\n",
       "       301.62762788, 320.14398803, 341.93265911, 257.99685743,\n",
       "       327.2645309 , 346.05747501, 299.30610525, 329.83578554,\n",
       "       357.97163067, 318.70317709, 354.76617899, 348.82484076,\n",
       "       305.98663719, 322.46105414, 273.68466269, 309.62446934,\n",
       "       331.74051947, 306.28704535, 353.82690409, 326.33782022,\n",
       "       286.86706119, 340.70915313, 234.33990507, 285.64215262,\n",
       "       316.4859124 , 285.86523482, 328.85454605, 331.72311189,\n",
       "       314.02737123, 357.26957072, 305.5151319 , 362.71973835,\n",
       "       293.59659327, 330.13558491, 375.60782   , 313.71163807,\n",
       "       396.38857202, 290.66056308, 307.62183222, 336.87311248,\n",
       "       368.12354778, 303.88169315, 288.47637873, 357.04438223,\n",
       "       262.6846499 , 386.95490757, 266.12834514, 293.70877458,\n",
       "       418.66701607, 347.89933578, 324.32975944, 341.35288411,\n",
       "       334.0407404 , 305.29653405, 318.4254863 , 368.29470612,\n",
       "       274.03631459, 318.75128278, 392.98818287, 329.34887083,\n",
       "       303.25185883])"
      ]
     },
     "execution_count": 93,
     "metadata": {},
     "output_type": "execute_result"
    }
   ],
   "source": [
    "ridge_prediction = ridge.predict(X_test)\n",
    "#To check the predicted values\n",
    "ridge_prediction"
   ]
  },
  {
   "cell_type": "code",
   "execution_count": 94,
   "id": "d702c2ee",
   "metadata": {},
   "outputs": [
    {
     "data": {
      "text/plain": [
       "20200.951451268444"
      ]
     },
     "execution_count": 94,
     "metadata": {},
     "output_type": "execute_result"
    }
   ],
   "source": [
    "MSE = metrics.mean_squared_error(y_test, ridge_prediction)\n",
    "MSE"
   ]
  },
  {
   "cell_type": "code",
   "execution_count": 95,
   "id": "1bda3c18",
   "metadata": {},
   "outputs": [
    {
     "data": {
      "text/plain": [
       "142.13005118998743"
      ]
     },
     "execution_count": 95,
     "metadata": {},
     "output_type": "execute_result"
    }
   ],
   "source": [
    "np.sqrt(MSE)"
   ]
  },
  {
   "cell_type": "markdown",
   "id": "83ae44f0",
   "metadata": {},
   "source": [
    "Therefore, the RMSE for the Ridge Regression is 142.13005118998743"
   ]
  },
  {
   "cell_type": "code",
   "execution_count": 97,
   "id": "4101b013",
   "metadata": {},
   "outputs": [
    {
     "data": {
      "text/plain": [
       "535     25.069061\n",
       "718   -127.094180\n",
       "277    117.062611\n",
       "391     29.651802\n",
       "586    -80.791676\n",
       "          ...    \n",
       "28     251.343685\n",
       "146   -113.831283\n",
       "616    159.641817\n",
       "234     27.081129\n",
       "359     33.558141\n",
       "Name: tip, Length: 149, dtype: float64"
      ]
     },
     "execution_count": 97,
     "metadata": {},
     "output_type": "execute_result"
    }
   ],
   "source": [
    "#To check the difference between the actual and predicted Tip\n",
    "y_test - ridge_prediction"
   ]
  },
  {
   "cell_type": "markdown",
   "id": "f0ac6ca9",
   "metadata": {},
   "source": [
    "# Using the Gradient Boost Model"
   ]
  },
  {
   "cell_type": "code",
   "execution_count": 98,
   "id": "91420b0a",
   "metadata": {},
   "outputs": [],
   "source": [
    "from sklearn.ensemble import GradientBoostingRegressor\n",
    "\n",
    "Gradient = GradientBoostingRegressor()"
   ]
  },
  {
   "cell_type": "code",
   "execution_count": 99,
   "id": "4b6a5881",
   "metadata": {},
   "outputs": [
    {
     "data": {
      "text/plain": [
       "GradientBoostingRegressor()"
      ]
     },
     "execution_count": 99,
     "metadata": {},
     "output_type": "execute_result"
    }
   ],
   "source": [
    "Gradient.fit(X_train, y_train)"
   ]
  },
  {
   "cell_type": "code",
   "execution_count": 100,
   "id": "661c71d6",
   "metadata": {},
   "outputs": [
    {
     "data": {
      "text/plain": [
       "array([ 373.35973814,  287.5138258 ,  256.19502104,  324.45870245,\n",
       "        244.21914804,  355.18251172,  270.2421425 ,  270.16123456,\n",
       "        342.86816517,  343.14525597,  276.41543728,  286.58355057,\n",
       "        316.13284571,  376.98966754,  372.27200277,  341.75777488,\n",
       "        359.77544334,  416.59385329,  303.07392681,  341.73253309,\n",
       "        265.15083995,  410.69933891,  337.90278165,  379.19627016,\n",
       "        285.82354182,  380.17651311,  303.88356962,  296.13467582,\n",
       "        398.69985965,  367.55921782,  287.7556783 ,  218.47389689,\n",
       "        413.743632  ,  323.02521432,  292.27433621,  336.83123073,\n",
       "        386.92431197,  270.6370853 ,  254.53451405,  285.65155836,\n",
       "        351.07884198,  317.81684101,  366.11838477,  412.62712626,\n",
       "        469.80705746,  289.43851749,  381.4212257 ,  343.86537115,\n",
       "        333.39659502,  375.10180804,  262.41588739,  357.15708001,\n",
       "        359.87838417,  444.63836227,  271.04738367,  345.67789458,\n",
       "        312.44553974,  287.17201632,  296.23410205,  383.19710052,\n",
       "        333.95633467,  332.62489969,  424.43577899,  356.36939179,\n",
       "        326.48310007,  326.7349325 ,  310.50076609,  402.94756366,\n",
       "        300.24413711,  708.22104602,  294.57685572,  312.2994251 ,\n",
       "       1016.75876535,  393.61683405,  334.10398157,  338.30883233,\n",
       "        370.32044344,  387.47501601,  352.93226486,  424.15039914,\n",
       "        242.08330515,  346.83447408,  310.03246151,  276.63386926,\n",
       "        331.5828933 ,  298.58921034,  312.12706605,  341.09443569,\n",
       "        300.94715479,  349.41302279,  312.69709775,  331.36173389,\n",
       "        371.36901434,  333.35877958,  267.89037764,  304.7478892 ,\n",
       "        355.48250207,  241.89419617,  400.5007191 ,  275.40651249,\n",
       "        215.36357349,  340.3416749 ,  275.7763864 ,  356.29056267,\n",
       "        322.69247664,  294.71427726,  348.4764853 ,  371.12421348,\n",
       "        323.56760322,  319.15863934,  431.31997369,  223.088114  ,\n",
       "        308.42008911,  293.83940238,  329.77422719,  312.72615603,\n",
       "        282.27351059,  357.61957992,  321.61148771,  348.4104376 ,\n",
       "        296.58837701,  268.17938903,  374.74825809,  241.89419617,\n",
       "        425.08443909,  302.7370792 ,  290.1430957 ,  333.39659502,\n",
       "        352.93226486,  266.84372743,  357.97830251,  295.25532078,\n",
       "        398.93733476,  379.62180733,  303.43440048,  251.51657854,\n",
       "        337.89140716,  349.19596559,  373.02703196,  340.40852397,\n",
       "        334.7899602 ,  309.25355149,  286.71920846,  279.46250866,\n",
       "        371.61970033,  303.6334773 ,  393.22727057,  262.73882997,\n",
       "        324.85086165])"
      ]
     },
     "execution_count": 100,
     "metadata": {},
     "output_type": "execute_result"
    }
   ],
   "source": [
    "Gradient_prediction = Gradient.predict(X_test)\n",
    "Gradient_prediction"
   ]
  },
  {
   "cell_type": "code",
   "execution_count": 101,
   "id": "cc4dd8f9",
   "metadata": {},
   "outputs": [
    {
     "data": {
      "text/plain": [
       "25851.757445359806"
      ]
     },
     "execution_count": 101,
     "metadata": {},
     "output_type": "execute_result"
    }
   ],
   "source": [
    "MSE = metrics.mean_squared_error(y_test, Gradient_prediction)\n",
    "MSE"
   ]
  },
  {
   "cell_type": "code",
   "execution_count": 102,
   "id": "673db522",
   "metadata": {},
   "outputs": [
    {
     "data": {
      "text/plain": [
       "160.7848172103318"
      ]
     },
     "execution_count": 102,
     "metadata": {},
     "output_type": "execute_result"
    }
   ],
   "source": [
    "np.sqrt(MSE)"
   ]
  },
  {
   "cell_type": "markdown",
   "id": "b30a368c",
   "metadata": {},
   "source": [
    "Therefore, the RMSE for the Gradient Boost model is 160.7848172103318"
   ]
  },
  {
   "cell_type": "code",
   "execution_count": 103,
   "id": "dd2bd86a",
   "metadata": {},
   "outputs": [
    {
     "data": {
      "text/plain": [
       "535     19.040262\n",
       "718   -130.553826\n",
       "277    135.114979\n",
       "391     51.591298\n",
       "586    -26.219148\n",
       "          ...    \n",
       "28     153.760300\n",
       "146    -98.713477\n",
       "616    159.402729\n",
       "234     93.691170\n",
       "359     11.959138\n",
       "Name: tip, Length: 149, dtype: float64"
      ]
     },
     "execution_count": 103,
     "metadata": {},
     "output_type": "execute_result"
    }
   ],
   "source": [
    "#To check the difference between the actual tip and the predicted tip\n",
    "y_test - Gradient_prediction"
   ]
  },
  {
   "cell_type": "markdown",
   "id": "98c20495",
   "metadata": {},
   "source": [
    "Having trained all the three (3) models, we can see that the best model that can accurately predict the amount of tips that would be given for a given party in the restaurant is the model with the lowest RMSE and that is Ridge Regression model = 142.13005118998743)."
   ]
  },
  {
   "cell_type": "code",
   "execution_count": null,
   "id": "95ccc5a7",
   "metadata": {},
   "outputs": [],
   "source": []
  }
 ],
 "metadata": {
  "kernelspec": {
   "display_name": "Python 3 (ipykernel)",
   "language": "python",
   "name": "python3"
  },
  "language_info": {
   "codemirror_mode": {
    "name": "ipython",
    "version": 3
   },
   "file_extension": ".py",
   "mimetype": "text/x-python",
   "name": "python",
   "nbconvert_exporter": "python",
   "pygments_lexer": "ipython3",
   "version": "3.9.13"
  }
 },
 "nbformat": 4,
 "nbformat_minor": 5
}
